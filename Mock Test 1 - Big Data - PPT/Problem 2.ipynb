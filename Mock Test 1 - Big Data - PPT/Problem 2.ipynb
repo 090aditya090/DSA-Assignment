{
 "cells": [
  {
   "cell_type": "markdown",
   "id": "9bfce178",
   "metadata": {},
   "source": [
    "**2.** Given a PySpark DataFrame named \"sales_data\" with columns \"product_name\" and \"revenue\", write a code to calculate the total revenue for each product and display the result in descending order."
   ]
  },
  {
   "cell_type": "code",
   "execution_count": null,
   "id": "42127b30",
   "metadata": {},
   "outputs": [],
   "source": [
    "from pyspark.sql import functions as F\n",
    "\n",
    "# Calculate total revenue for each product\n",
    "total_revenue_df = sales_data.groupBy(\"product_name\").agg(F.sum(\"revenue\").alias(\"total_revenue\"))\n",
    "\n",
    "# Sort the DataFrame in descending order of total revenue\n",
    "sorted_df = total_revenue_df.orderBy(F.desc(\"total_revenue\"))\n",
    "\n",
    "# Display the result\n",
    "sorted_df.show()"
   ]
  }
 ],
 "metadata": {
  "kernelspec": {
   "display_name": "Python 3 (ipykernel)",
   "language": "python",
   "name": "python3"
  },
  "language_info": {
   "codemirror_mode": {
    "name": "ipython",
    "version": 3
   },
   "file_extension": ".py",
   "mimetype": "text/x-python",
   "name": "python",
   "nbconvert_exporter": "python",
   "pygments_lexer": "ipython3",
   "version": "3.7.4"
  }
 },
 "nbformat": 4,
 "nbformat_minor": 5
}
