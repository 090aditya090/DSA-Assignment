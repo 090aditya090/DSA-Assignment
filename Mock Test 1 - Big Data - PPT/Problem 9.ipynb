{
 "cells": [
  {
   "cell_type": "markdown",
   "id": "f8d31218",
   "metadata": {},
   "source": [
    "**9.** Calculate the average price of all products in each category and display the results along with the category name."
   ]
  },
  {
   "cell_type": "code",
   "execution_count": null,
   "id": "b5465573",
   "metadata": {},
   "outputs": [],
   "source": [
    "from pyspark.sql import functions as F\n",
    "\n",
    "# Assuming you have a DataFrame representing the \"Products\" table named 'products_df'\n",
    "# Assuming you have a DataFrame representing the \"Categories\" table named 'categories_df'\n",
    "\n",
    "# Calculate the average price of products in each category\n",
    "avg_price_df = products_df.groupBy(\"category_id\").agg(F.avg(\"price\").alias(\"avg_price\"))\n",
    "\n",
    "# Join with the categories DataFrame to get the category name\n",
    "result_df = avg_price_df.join(categories_df, \"category_id\").select(\"category_name\", \"avg_price\")\n",
    "\n",
    "# Display the result\n",
    "result_df.show()"
   ]
  }
 ],
 "metadata": {
  "kernelspec": {
   "display_name": "Python 3 (ipykernel)",
   "language": "python",
   "name": "python3"
  },
  "language_info": {
   "codemirror_mode": {
    "name": "ipython",
    "version": 3
   },
   "file_extension": ".py",
   "mimetype": "text/x-python",
   "name": "python",
   "nbconvert_exporter": "python",
   "pygments_lexer": "ipython3",
   "version": "3.7.4"
  }
 },
 "nbformat": 4,
 "nbformat_minor": 5
}
