{
 "cells": [
  {
   "cell_type": "markdown",
   "id": "f6d45dfa",
   "metadata": {},
   "source": [
    "**6.**  Retrieve all the customers from the \"Customers\" table whose age is greater than 25 and have made at least one purchase."
   ]
  },
  {
   "cell_type": "code",
   "execution_count": null,
   "id": "07265153",
   "metadata": {},
   "outputs": [],
   "source": [
    "from pyspark.sql import functions as F\n",
    "\n",
    "# Assuming you have a DataFrame representing the \"Customers\" table named 'customers_df'\n",
    "# and a DataFrame representing the \"Purchases\" table named 'purchases_df'\n",
    "\n",
    "# Filter customers whose age is greater than 25\n",
    "filtered_customers_df = customers_df.filter(customers_df.age > 25)\n",
    "\n",
    "# Filter customers who made at least one purchase\n",
    "customers_with_purchase_df = filtered_customers_df.join(\n",
    "    purchases_df,\n",
    "    filtered_customers_df.customer_id == purchases_df.customer_id,\n",
    "    \"inner\"\n",
    ").select(filtered_customers_df[\"*\"])\n",
    "\n",
    "# Display the result\n",
    "customers_with_purchase_df.show()"
   ]
  }
 ],
 "metadata": {
  "kernelspec": {
   "display_name": "Python 3 (ipykernel)",
   "language": "python",
   "name": "python3"
  },
  "language_info": {
   "codemirror_mode": {
    "name": "ipython",
    "version": 3
   },
   "file_extension": ".py",
   "mimetype": "text/x-python",
   "name": "python",
   "nbconvert_exporter": "python",
   "pygments_lexer": "ipython3",
   "version": "3.7.4"
  }
 },
 "nbformat": 4,
 "nbformat_minor": 5
}
