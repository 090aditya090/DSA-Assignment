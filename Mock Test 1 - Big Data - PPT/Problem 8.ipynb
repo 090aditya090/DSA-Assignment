{
 "cells": [
  {
   "cell_type": "markdown",
   "id": "6c046858",
   "metadata": {},
   "source": [
    "**8.** Retrieve the names of all products that are currently out of stock from the \"Products\" table."
   ]
  },
  {
   "cell_type": "code",
   "execution_count": null,
   "id": "b3e67dc8",
   "metadata": {},
   "outputs": [],
   "source": [
    "# Assuming you have a DataFrame representing the \"Products\" table named 'products_df'\n",
    "\n",
    "# Filter products that are out of stock\n",
    "out_of_stock_products_df = products_df.filter(products_df.stock_quantity == 0)\n",
    "\n",
    "# Select only the names of the out of stock products\n",
    "out_of_stock_product_names_df = out_of_stock_products_df.select(\"product_name\")\n",
    "\n",
    "# Display the result\n",
    "out_of_stock_product_names_df.show()"
   ]
  }
 ],
 "metadata": {
  "kernelspec": {
   "display_name": "Python 3 (ipykernel)",
   "language": "python",
   "name": "python3"
  },
  "language_info": {
   "codemirror_mode": {
    "name": "ipython",
    "version": 3
   },
   "file_extension": ".py",
   "mimetype": "text/x-python",
   "name": "python",
   "nbconvert_exporter": "python",
   "pygments_lexer": "ipython3",
   "version": "3.7.4"
  }
 },
 "nbformat": 4,
 "nbformat_minor": 5
}
