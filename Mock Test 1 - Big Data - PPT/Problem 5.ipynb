{
 "cells": [
  {
   "cell_type": "markdown",
   "id": "a8365e58",
   "metadata": {},
   "source": [
    "**5.** Given a PySpark DataFrame named \"logs\" with columns \"timestamp\" (timestamp) and \"event\" (string), write a code to count the number of events that occurred in each hour and display the result sorted by the hour."
   ]
  },
  {
   "cell_type": "code",
   "execution_count": null,
   "id": "01d97293",
   "metadata": {},
   "outputs": [],
   "source": [
    "from pyspark.sql import functions as F\n",
    "\n",
    "# Extract the hour from the timestamp column\n",
    "logs_with_hour = logs.withColumn(\"hour\", F.hour(\"timestamp\"))\n",
    "\n",
    "# Count the number of events per hour\n",
    "event_count_per_hour = logs_with_hour.groupBy(\"hour\").count()\n",
    "\n",
    "# Sort the DataFrame by hour\n",
    "sorted_event_count = event_count_per_hour.orderBy(\"hour\")\n",
    "\n",
    "# Display the result\n",
    "sorted_event_count.show()"
   ]
  }
 ],
 "metadata": {
  "kernelspec": {
   "display_name": "Python 3 (ipykernel)",
   "language": "python",
   "name": "python3"
  },
  "language_info": {
   "codemirror_mode": {
    "name": "ipython",
    "version": 3
   },
   "file_extension": ".py",
   "mimetype": "text/x-python",
   "name": "python",
   "nbconvert_exporter": "python",
   "pygments_lexer": "ipython3",
   "version": "3.7.4"
  }
 },
 "nbformat": 4,
 "nbformat_minor": 5
}
