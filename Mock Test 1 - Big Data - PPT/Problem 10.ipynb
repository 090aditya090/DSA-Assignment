{
 "cells": [
  {
   "cell_type": "markdown",
   "id": "42d10636",
   "metadata": {},
   "source": [
    "**10.** Retrieve the top 5 customers who have spent the highest total amount on purchases."
   ]
  },
  {
   "cell_type": "code",
   "execution_count": null,
   "id": "36cdab84",
   "metadata": {},
   "outputs": [],
   "source": [
    "from pyspark.sql import functions as F\n",
    "\n",
    "# Assuming you have a DataFrame representing the \"Purchases\" table named 'purchases_df'\n",
    "\n",
    "# Group by customer_id and calculate the total amount spent by each customer\n",
    "total_amount_df = purchases_df.groupBy(\"customer_id\").agg(F.sum(\"amount\").alias(\"total_amount\"))\n",
    "\n",
    "# Sort the DataFrame in descending order of total_amount\n",
    "sorted_total_amount_df = total_amount_df.orderBy(F.desc(\"total_amount\"))\n",
    "\n",
    "# Retrieve the top 5 customers\n",
    "top_5_customers_df = sorted_total_amount_df.limit(5)\n",
    "\n",
    "# Display the result\n",
    "top_5_customers_df.show()"
   ]
  }
 ],
 "metadata": {
  "kernelspec": {
   "display_name": "Python 3 (ipykernel)",
   "language": "python",
   "name": "python3"
  },
  "language_info": {
   "codemirror_mode": {
    "name": "ipython",
    "version": 3
   },
   "file_extension": ".py",
   "mimetype": "text/x-python",
   "name": "python",
   "nbconvert_exporter": "python",
   "pygments_lexer": "ipython3",
   "version": "3.7.4"
  }
 },
 "nbformat": 4,
 "nbformat_minor": 5
}
