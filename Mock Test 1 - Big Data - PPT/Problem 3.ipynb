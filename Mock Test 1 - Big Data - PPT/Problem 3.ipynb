{
 "cells": [
  {
   "cell_type": "markdown",
   "id": "a6672153",
   "metadata": {},
   "source": [
    "**3.** Write a PySpark code to read a JSON file named \"students.json\" containing student records with the following schema: \"name\" (string), \"age\" (integer), \"grade\" (string). Filter the DataFrame to include only students whose age is greater than 18."
   ]
  },
  {
   "cell_type": "code",
   "execution_count": null,
   "id": "64e2ec22",
   "metadata": {},
   "outputs": [],
   "source": [
    "# Read the JSON file into a PySpark DataFrame\n",
    "df = spark.read.json(\"students.json\")\n",
    "\n",
    "# Filter the DataFrame based on age greater than 18\n",
    "filtered_df = df.filter(df.age > 18)\n",
    "\n",
    "# Display the result\n",
    "filtered_df.show()"
   ]
  }
 ],
 "metadata": {
  "kernelspec": {
   "display_name": "Python 3 (ipykernel)",
   "language": "python",
   "name": "python3"
  },
  "language_info": {
   "codemirror_mode": {
    "name": "ipython",
    "version": 3
   },
   "file_extension": ".py",
   "mimetype": "text/x-python",
   "name": "python",
   "nbconvert_exporter": "python",
   "pygments_lexer": "ipython3",
   "version": "3.7.4"
  }
 },
 "nbformat": 4,
 "nbformat_minor": 5
}
