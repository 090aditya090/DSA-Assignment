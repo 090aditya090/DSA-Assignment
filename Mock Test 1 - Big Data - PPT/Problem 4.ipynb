{
 "cells": [
  {
   "cell_type": "markdown",
   "id": "44fdd411",
   "metadata": {},
   "source": [
    "**4.** Consider a PySpark DataFrame named \"transactions\" with columns \"transaction_id\", \"user_id\", and \"amount\". Write a code to calculate the average transaction amount for each user and display the result."
   ]
  },
  {
   "cell_type": "code",
   "execution_count": null,
   "id": "f1e6de3e",
   "metadata": {},
   "outputs": [],
   "source": [
    "from pyspark.sql import functions as F\n",
    "\n",
    "# Calculate the average transaction amount for each user\n",
    "avg_transaction_amount_df = transactions.groupBy(\"user_id\").agg(F.avg(\"amount\").alias(\"avg_transaction_amount\"))\n",
    "\n",
    "# Display the result\n",
    "avg_transaction_amount_df.show()"
   ]
  }
 ],
 "metadata": {
  "kernelspec": {
   "display_name": "Python 3 (ipykernel)",
   "language": "python",
   "name": "python3"
  },
  "language_info": {
   "codemirror_mode": {
    "name": "ipython",
    "version": 3
   },
   "file_extension": ".py",
   "mimetype": "text/x-python",
   "name": "python",
   "nbconvert_exporter": "python",
   "pygments_lexer": "ipython3",
   "version": "3.7.4"
  }
 },
 "nbformat": 4,
 "nbformat_minor": 5
}
