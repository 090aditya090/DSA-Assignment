{
 "cells": [
  {
   "cell_type": "markdown",
   "id": "d3399b5c",
   "metadata": {},
   "source": [
    "**7.** Find the total number of orders placed by each customer and display the results in descending order of the number of orders."
   ]
  },
  {
   "cell_type": "code",
   "execution_count": null,
   "id": "64bbd435",
   "metadata": {},
   "outputs": [],
   "source": [
    "from pyspark.sql import functions as F\n",
    "\n",
    "# Assuming you have a DataFrame representing the \"Orders\" table named 'orders_df'\n",
    "\n",
    "# Group by customer_id and count the number of orders\n",
    "order_count_df = orders_df.groupBy(\"customer_id\").agg(F.count(\"order_id\").alias(\"order_count\"))\n",
    "\n",
    "# Sort the DataFrame in descending order of order_count\n",
    "sorted_order_count_df = order_count_df.orderBy(F.desc(\"order_count\"))\n",
    "\n",
    "# Display the result\n",
    "sorted_order_count_df.show()"
   ]
  }
 ],
 "metadata": {
  "kernelspec": {
   "display_name": "Python 3 (ipykernel)",
   "language": "python",
   "name": "python3"
  },
  "language_info": {
   "codemirror_mode": {
    "name": "ipython",
    "version": 3
   },
   "file_extension": ".py",
   "mimetype": "text/x-python",
   "name": "python",
   "nbconvert_exporter": "python",
   "pygments_lexer": "ipython3",
   "version": "3.7.4"
  }
 },
 "nbformat": 4,
 "nbformat_minor": 5
}
