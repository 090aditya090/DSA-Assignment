{
 "cells": [
  {
   "cell_type": "markdown",
   "id": "d2ee8d92",
   "metadata": {},
   "source": [
    "**Question 1**\n",
    "\n",
    "Given an integer array nums of 2n integers, group these integers into n pairs (a1, b1), (a2, b2),\n",
    "..., (an, bn) such that the sum of min(ai, bi) for all i is maximized. Return the maximized sum.\n",
    "\n",
    "Example 1:\n",
    "\n",
    "Input: nums = [1,4,3,2]\n",
    "\n",
    "Output: 4\n",
    "\n",
    "Explanation: All possible pairings (ignoring the ordering of elements) are:\n",
    "\n",
    "1. (1, 4), (2, 3) -> min(1, 4) + min(2, 3) = 1 + 2 = 3\n",
    "2. (1, 3), (2, 4) -> min(1, 3) + min(2, 4) = 1 + 2 = 3\n",
    "3. (1, 2), (3, 4) -> min(1, 2) + min(3, 4) = 1 + 3 = 4\n",
    "\n",
    "So the maximum possible sum is 4"
   ]
  },
  {
   "cell_type": "code",
   "execution_count": 3,
   "id": "ea4ef7d6",
   "metadata": {},
   "outputs": [
    {
     "name": "stdout",
     "output_type": "stream",
     "text": [
      "4\n"
     ]
    }
   ],
   "source": [
    "def maximizedSum(nums):\n",
    "    nums.sort()\n",
    "    \n",
    "    s = 0\n",
    "    for i in range(0, len(nums), 2):\n",
    "        s = s+nums[i] \n",
    "    return s\n",
    "    \n",
    "nums = [1,4,3,2]\n",
    "print(maximizedSum(nums))"
   ]
  },
  {
   "cell_type": "markdown",
   "id": "c860d274",
   "metadata": {},
   "source": [
    "**Question 2**\n",
    "\n",
    "Alice has n candies, where the ith candy is of type candyType[i]. Alice noticed that she started\n",
    "to gain weight, so she visited a doctor.\n",
    "The doctor advised Alice to only eat n / 2 of the candies she has (n is always even). Alice\n",
    "likes her candies very much, and she wants to eat the maximum number of different types of\n",
    "candies while still following the doctor's advice.\n",
    "Given the integer array candyType of length n, return the maximum number of different types\n",
    "of candies she can eat if she only eats n / 2 of them.\n",
    "\n",
    "Example 1:\n",
    "\n",
    "Input: candyType = [1,1,2,2,3,3]\n",
    "\n",
    "Output: 3\n",
    "\n",
    "Explanation: Alice can only eat 6 / 2 = 3 candies. Since there are only 3 types, she can eat one\n",
    "of each type."
   ]
  },
  {
   "cell_type": "code",
   "execution_count": 4,
   "id": "b83cadbe",
   "metadata": {},
   "outputs": [
    {
     "name": "stdout",
     "output_type": "stream",
     "text": [
      "3\n"
     ]
    }
   ],
   "source": [
    "def distributeCandies(candyType):\n",
    "    eat = len(candyType)//2\n",
    "    candy = set(candyType)\n",
    "    if eat <= len(candy):\n",
    "        return eat\n",
    "    elif eat > len(candy):\n",
    "        return len(candy)\n",
    "    \n",
    "candyType = [1,1,2,2,3,3]   \n",
    "print(distributeCandies(candyType))"
   ]
  },
  {
   "cell_type": "markdown",
   "id": "bc6e6808",
   "metadata": {},
   "source": [
    "**Question 3**\n",
    "\n",
    "We define a harmonious array as an array where the difference between its maximum value\n",
    "and its minimum value is exactly 1.\n",
    "Given an integer array nums, return the length of its longest harmonious subsequence\n",
    "among all its possible subsequences.\n",
    "A subsequence of an array is a sequence that can be derived from the array by deleting some\n",
    "or no elements without changing the order of the remaining elements.\n",
    "\n",
    "Example 1:\n",
    "\n",
    "Input: nums = [1,3,2,2,5,2,3,7]\n",
    "\n",
    "Output: 5\n",
    "\n",
    "Explanation: The longest harmonious subsequence is [3,2,2,2,3]."
   ]
  },
  {
   "cell_type": "code",
   "execution_count": 2,
   "id": "2ac970ca",
   "metadata": {},
   "outputs": [
    {
     "name": "stdout",
     "output_type": "stream",
     "text": [
      "5\n"
     ]
    }
   ],
   "source": [
    "def harmoniousSubsequence(nums):\n",
    "    hash_t = {}\n",
    "    for n in nums:\n",
    "        hash_t[n] = nums.count(n)\n",
    "    \n",
    "    m = 0\n",
    "    for num in hash_t:\n",
    "        if num+1 in hash_t:\n",
    "            l = hash_t[num] + hash_t[num+1]\n",
    "            if l > m:\n",
    "                m = l\n",
    "    return m\n",
    "                \n",
    "nums = [1,3,2,2,5,2,3,7]\n",
    "\n",
    "print(harmoniousSubsequence(nums))"
   ]
  },
  {
   "cell_type": "markdown",
   "id": "283b6385",
   "metadata": {},
   "source": [
    "**Question 4**\n",
    "\n",
    "You have a long flowerbed in which some of the plots are planted, and some are not.\n",
    "However, flowers cannot be planted in adjacent plots.\n",
    "Given an integer array flowerbed containing 0's and 1's, where 0 means empty and 1 means\n",
    "not empty, and an integer n, return true if n new flowers can be planted in the flowerbed\n",
    "without violating the no-adjacent-flowers rule and false otherwise.\n",
    "\n",
    "Example 1:\n",
    "\n",
    "Input: flowerbed = [1,0,0,0,1], n = 1\n",
    "\n",
    "Output: true"
   ]
  },
  {
   "cell_type": "code",
   "execution_count": 6,
   "id": "5f011497",
   "metadata": {},
   "outputs": [
    {
     "name": "stdout",
     "output_type": "stream",
     "text": [
      "True\n"
     ]
    }
   ],
   "source": [
    "def flowerbedPlantation(F, n):\n",
    "    for i in range(1,len(F)-1):\n",
    "        if F[i-1] == 0 and F[i] == 0 and F[i-1] == 0:\n",
    "            n = n-1\n",
    "    \n",
    "    if n <= 0:\n",
    "        return True\n",
    "    else:\n",
    "        return False\n",
    "\n",
    "\n",
    "flowerbed = [1,0,0,0,1]\n",
    "n = 1\n",
    "print(flowerbedPlantation(flowerbed, n))"
   ]
  },
  {
   "cell_type": "markdown",
   "id": "29c114e4",
   "metadata": {},
   "source": [
    "**Question 5**\n",
    "\n",
    "Given an integer array nums, find three numbers whose product is maximum and return the\n",
    "maximum product.\n",
    "\n",
    "Example 1:\n",
    "\n",
    "Input: nums = [1,2,3]\n",
    "\n",
    "Output: 6"
   ]
  },
  {
   "cell_type": "code",
   "execution_count": 5,
   "id": "136c145e",
   "metadata": {},
   "outputs": [
    {
     "name": "stdout",
     "output_type": "stream",
     "text": [
      "6\n"
     ]
    }
   ],
   "source": [
    "def maxProduct(nums):\n",
    "    nums.sort()\n",
    "\n",
    "    return nums[len(nums)-3]*nums[len(nums)-2]*nums[len(nums)-1]\n",
    "\n",
    "nums = [1,2,3]\n",
    "print(maxProduct(nums))"
   ]
  },
  {
   "cell_type": "markdown",
   "id": "fca8137e",
   "metadata": {},
   "source": [
    "**Question 6**\n",
    "\n",
    "Given an array of integers nums which is sorted in ascending order, and an integer target,\n",
    "write a function to search target in nums. If target exists, then return its index. Otherwise,\n",
    "return -1.\n",
    "\n",
    "You must write an algorithm with O(log n) runtime complexity.\n",
    "\n",
    "Input: nums = [-1,0,3,5,9,12], target = 9\n",
    "\n",
    "Output: 4\n",
    "\n",
    "Explanation: 9 exists in nums and its index is 4"
   ]
  },
  {
   "cell_type": "code",
   "execution_count": 7,
   "id": "695a9565",
   "metadata": {},
   "outputs": [
    {
     "name": "stdout",
     "output_type": "stream",
     "text": [
      "4\n"
     ]
    }
   ],
   "source": [
    "def indexTarget(n, t):\n",
    "    r = len(n)-1\n",
    "    l = 0\n",
    "    \n",
    "    while l < r:\n",
    "        mid = (r+l)//2\n",
    "        \n",
    "        if n[mid] == t:\n",
    "            return mid\n",
    "        elif n[mid] < t:\n",
    "            l = mid+1\n",
    "        elif n[mid] > t:\n",
    "            r = mid-1\n",
    "    return -1\n",
    "        \n",
    "    \n",
    "    \n",
    "nums = [-1,0,3,5,9,12] \n",
    "target = 9\n",
    "print(indexTarget(nums, target))"
   ]
  },
  {
   "cell_type": "markdown",
   "id": "d737d01a",
   "metadata": {},
   "source": [
    "**Question 7**\n",
    "\n",
    "An array is monotonic if it is either monotone increasing or monotone decreasing.\n",
    "An array nums is monotone increasing if for all i <= j, nums[i] <= nums[j]. An array nums is\n",
    "monotone decreasing if for all i <= j, nums[i] >= nums[j].\n",
    "Given an integer array nums, return true if the given array is monotonic, or false otherwise.\n",
    "\n",
    "Example 1:\n",
    "\n",
    "Input: nums = [1,2,2,3]\n",
    "\n",
    "Output: true"
   ]
  },
  {
   "cell_type": "code",
   "execution_count": 11,
   "id": "310f824f",
   "metadata": {},
   "outputs": [
    {
     "name": "stdout",
     "output_type": "stream",
     "text": [
      "True\n"
     ]
    }
   ],
   "source": [
    "def isMonotonic(nums):\n",
    "    if nums[0] < nums[-1]:\n",
    "        for i in range(1,len(nums)):\n",
    "            if nums[i-1] > nums[i]:\n",
    "                return False\n",
    "        return True\n",
    "\n",
    "    if nums[-1] < nums[0]:\n",
    "        for i in range(1, len(nums)):\n",
    "            if nums[i-1] < nums[i]:\n",
    "                return False\n",
    "        return True\n",
    "\n",
    "    if nums[0] == nums[-1]:\n",
    "        for i in range(1, len(nums)):\n",
    "            if nums[i-1] > nums[i] or nums[i-1] < nums[i]:\n",
    "                return False\n",
    "        return True\n",
    "    \n",
    "    \n",
    "nums = [1,2,2,3]\n",
    "print(isMonotonic(nums))"
   ]
  },
  {
   "cell_type": "markdown",
   "id": "7086056a",
   "metadata": {},
   "source": [
    "**Question 8**\n",
    "\n",
    "You are given an integer array nums and an integer k.\n",
    "In one operation, you can choose any index i where 0 <= i < nums.length and change nums[i]\n",
    "to nums[i] + x where x is an integer from the range [-k, k]. You can apply this operation at\n",
    "most once for each index i.\n",
    "The score of nums is the difference between the maximum and minimum elements in nums.\n",
    "Return the minimum score of nums after applying the mentioned operation at most once for\n",
    "each index in it.\n",
    "\n",
    "Example 1:\n",
    "\n",
    "Input: nums = [1], k = 0\n",
    "\n",
    "Output: 0\n",
    "\n",
    "Explanation: The score is max(nums) - min(nums) = 1 - 1 = 0."
   ]
  },
  {
   "cell_type": "code",
   "execution_count": 12,
   "id": "b59afea8",
   "metadata": {},
   "outputs": [
    {
     "name": "stdout",
     "output_type": "stream",
     "text": [
      "0\n"
     ]
    }
   ],
   "source": [
    "def smallestRangeI(nums, k):\n",
    "        \n",
    "    M, m = max(nums), min(nums)\n",
    "    diff, extension = M - m, 2*k\n",
    "        \n",
    "    if diff <= extension:\n",
    "        return 0\n",
    "        \n",
    "    else:\n",
    "        return diff - extension\n",
    "    \n",
    "nums = [1]\n",
    "k = 0    \n",
    "print(smallestRangeI(nums, k))"
   ]
  },
  {
   "cell_type": "code",
   "execution_count": null,
   "id": "55b28d6c",
   "metadata": {},
   "outputs": [],
   "source": []
  }
 ],
 "metadata": {
  "kernelspec": {
   "display_name": "Python 3 (ipykernel)",
   "language": "python",
   "name": "python3"
  },
  "language_info": {
   "codemirror_mode": {
    "name": "ipython",
    "version": 3
   },
   "file_extension": ".py",
   "mimetype": "text/x-python",
   "name": "python",
   "nbconvert_exporter": "python",
   "pygments_lexer": "ipython3",
   "version": "3.7.4"
  }
 },
 "nbformat": 4,
 "nbformat_minor": 5
}
