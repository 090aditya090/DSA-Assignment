{
 "cells": [
  {
   "cell_type": "markdown",
   "id": "71dc0489",
   "metadata": {},
   "source": [
    "**Question 1**\n",
    "\n",
    "Given an integer array nums of length n and an integer target, find three integers\n",
    "in nums such that the sum is closest to the target.\n",
    "Return the sum of the three integers.\n",
    "You may assume that each input would have exactly one solution.\n",
    "\n",
    "Example 1:\n",
    "\n",
    "Input: nums = [-1,2,1,-4], target = 1\n",
    "\n",
    "Output: 2\n",
    "\n",
    "Explanation: The sum that is closest to the target is 2. (-1 + 2 + 1 = 2)."
   ]
  },
  {
   "cell_type": "markdown",
   "id": "c58c171f",
   "metadata": {},
   "source": [
    "**Brute Force Approach, Time Complexity: O(n^3)**"
   ]
  },
  {
   "cell_type": "code",
   "execution_count": 3,
   "id": "c3770b42",
   "metadata": {},
   "outputs": [
    {
     "name": "stdout",
     "output_type": "stream",
     "text": [
      "2\n"
     ]
    }
   ],
   "source": [
    "def threeSumClosest(nums, target):\n",
    "    for i in range(len(nums)):\n",
    "        for j in range(1, len(nums)):\n",
    "            for k in range(2, len(nums)):\n",
    "                s = nums[i]+nums[j]+nums[k]\n",
    "                t = s - target\n",
    "                if s ==  target:\n",
    "                    return s\n",
    "                elif t == 1 or t == -1:\n",
    "                    return s\n",
    "    \n",
    "nums = [-1,2,1,-4]\n",
    "target = 1    \n",
    "print(threeSumClosest(nums, target))"
   ]
  },
  {
   "cell_type": "markdown",
   "id": "c634e100",
   "metadata": {},
   "source": [
    "**2nd Approach with TC: O(n^2.logn)**"
   ]
  },
  {
   "cell_type": "code",
   "execution_count": 4,
   "id": "b4a2dd66",
   "metadata": {},
   "outputs": [
    {
     "name": "stdout",
     "output_type": "stream",
     "text": [
      "2\n"
     ]
    }
   ],
   "source": [
    "def threeSumClosest(nums, target):\n",
    "    \n",
    "    nums.sort()\n",
    "    \n",
    "    for i in range(len(nums)):\n",
    "        l = i+1\n",
    "        r = len(nums)-1\n",
    "        \n",
    "        while l < r:\n",
    "            s = nums[i] + nums[l] + nums[r]\n",
    "            t = s-target\n",
    "    \n",
    "            if s == target:\n",
    "                return s\n",
    "            \n",
    "            elif t == 1 or t == -1:\n",
    "                return s\n",
    "            \n",
    "            elif t > 1:\n",
    "                r -= 1\n",
    "                \n",
    "            elif t < -1:\n",
    "                l += 1\n",
    "        \n",
    "    \n",
    "nums = [-1,2,1,4]\n",
    "target = 1    \n",
    "print(threeSumClosest(nums, target))"
   ]
  },
  {
   "cell_type": "markdown",
   "id": "b46fb8e8",
   "metadata": {},
   "source": [
    "**Question 2**\n",
    "\n",
    "Given an array nums of n integers, return an array of all the unique quadruplets\n",
    "[nums[a], nums[b], nums[c], nums[d]] such that:\n",
    "\n",
    "● 0 <= a, b, c, d < n\n",
    "\n",
    "● a, b, c, and d are distinct.\n",
    "\n",
    "● nums[a] + nums[b] + nums[c] + nums[d] == target\n",
    "\n",
    "You may return the answer in any order.\n",
    "\n",
    "Example 1:\n",
    "\n",
    "Input: nums = [1,0,-1,0,-2,2], target = 0\n",
    "\n",
    "Output: [[-2,-1,1,2],[-2,0,0,2],[-1,0,0,1]]"
   ]
  },
  {
   "cell_type": "code",
   "execution_count": 5,
   "id": "9c64de78",
   "metadata": {},
   "outputs": [
    {
     "name": "stdout",
     "output_type": "stream",
     "text": [
      "[[-2, -1, 1, 2], [-2, 0, 0, 2], [-1, 0, 0, 1]]\n"
     ]
    }
   ],
   "source": [
    "def fourSum(nums, target):\n",
    "        res,quad=[],[]\n",
    "        nums.sort()\n",
    "        def ksum(k,start,target):\n",
    "            if k!=2:\n",
    "                for i in range(start,len(nums)-k+1):\n",
    "                    if i>start and nums[i]==nums[i-1]:\n",
    "                        continue\n",
    "                    quad.append(nums[i])\n",
    "                    ksum(k-1,i+1,target-nums[i])\n",
    "                    quad.pop()\n",
    "                return\n",
    "\n",
    "\n",
    "            l,r=start,len(nums)-1\n",
    "            while l<r:\n",
    "                if nums[l]+nums[r]<target:\n",
    "                    l+=1\n",
    "                elif nums[l]+nums[r]>target:\n",
    "                    r-=1\n",
    "                else:\n",
    "                    res.append(quad+[nums[l],nums[r]])\n",
    "                    l+=1\n",
    "                    while l<r and nums[l]==nums[l-1]:\n",
    "                        l+=1\n",
    "        ksum(4,0,target)\n",
    "        return res\n",
    "\n",
    "nums = [1,0,-1,0,-2,2]\n",
    "target = 0\n",
    "print(fourSum(nums, target))"
   ]
  },
  {
   "cell_type": "markdown",
   "id": "62381f77",
   "metadata": {},
   "source": [
    "**Question 3**\n",
    "\n",
    "A permutation of an array of integers is an arrangement of its members into a\n",
    "sequence or linear order.\n",
    "\n",
    "● For example, for arr = [1,2,3], the following are all the permutations of arr:\n",
    "[1,2,3], [1,3,2], [2, 1, 3], [2, 3, 1], [3,1,2], [3,2,1].\n",
    "The next permutation of an array of integers is the next lexicographically greater\n",
    "permutation of its integer. More formally, if all the permutations of the array are\n",
    "sorted in one container according to their lexicographical order, then the next\n",
    "permutation of that array is the permutation that follows it in the sorted container.\n",
    "If such an arrangement is not possible, the array must be rearranged as the\n",
    "lowest possible order (i.e., sorted in ascending order).\n",
    "\n",
    "● For example, the next permutation of arr = [1,2,3] is [1,3,2].\n",
    "\n",
    "● Similarly, the next permutation of arr = [2,3,1] is [3,1,2].\n",
    "\n",
    "● While the next permutation of arr = [3,2,1] is [1,2,3] because [3,2,1] does not\n",
    "\n",
    "have a lexicographical larger rearrangement.\n",
    "Given an array of integers nums, find the next permutation of nums.\n",
    "The replacement must be in place and use only constant extra memory.\n",
    "\n",
    "Example 1:\n",
    "\n",
    "Input: nums = [1,2,3]\n",
    "\n",
    "Output: [1,3,2]"
   ]
  },
  {
   "cell_type": "code",
   "execution_count": 6,
   "id": "c1246e56",
   "metadata": {},
   "outputs": [
    {
     "name": "stdout",
     "output_type": "stream",
     "text": [
      "[1, 3, 2]\n"
     ]
    }
   ],
   "source": [
    "def nextPermutation(nums):\n",
    "    def permutation(nums, start):\n",
    "        end = len(nums) - 1\n",
    "        while start < end:\n",
    "            nums[start], nums[end] = nums[end], nums[start]\n",
    "            start += 1\n",
    "            end -= 1\n",
    "    i = len(nums) - 2\n",
    "    while i >= 0 and nums[i + 1] <= nums[i]:\n",
    "        i -= 1\n",
    "    if i >= 0:\n",
    "        j = len(nums) - 1\n",
    "        while nums[j] <= nums[i]:\n",
    "            j -= 1\n",
    "        nums[i], nums[j] = nums[j], nums[i]\n",
    "    permutation(nums, i + 1)\n",
    "    return nums\n",
    "\n",
    "nums = [1,2,3]\n",
    "print(nextPermutation(nums))"
   ]
  },
  {
   "cell_type": "markdown",
   "id": "94a9aaca",
   "metadata": {},
   "source": [
    "**Question 4**\n",
    "\n",
    "Given a sorted array of distinct integers and a target value, return the index if the\n",
    "target is found. If not, return the index where it would be if it were inserted in\n",
    "order.\n",
    "\n",
    "You must write an algorithm with O(log n) runtime complexity.\n",
    "\n",
    "Example 1:\n",
    "\n",
    "Input: nums = [1,3,5,6], target = 5\n",
    "\n",
    "Output: 2"
   ]
  },
  {
   "cell_type": "code",
   "execution_count": 7,
   "id": "672ea262",
   "metadata": {},
   "outputs": [
    {
     "name": "stdout",
     "output_type": "stream",
     "text": [
      "2\n"
     ]
    }
   ],
   "source": [
    "def indexTarget(n, t):\n",
    "    r = len(n)-1\n",
    "    l = 0\n",
    "    \n",
    "    while l < r:\n",
    "        mid = (r+l)//2\n",
    "        \n",
    "        if n[mid] == t:\n",
    "            return mid\n",
    "        elif n[mid] < t:\n",
    "            l = mid+1\n",
    "        elif n[mid] > t:\n",
    "            r = mid-1\n",
    "    return -1\n",
    "        \n",
    "    \n",
    "    \n",
    "nums = [1,3,5,6]\n",
    "target = 5\n",
    "print(indexTarget(nums, target))"
   ]
  },
  {
   "cell_type": "markdown",
   "id": "2e903e3b",
   "metadata": {},
   "source": [
    "**Question 5**\n",
    "\n",
    "You are given a large integer represented as an integer array digits, where each\n",
    "digits[i] is the ith digit of the integer. The digits are ordered from most significant\n",
    "to least significant in left-to-right order. The large integer does not contain any\n",
    "leading 0's.\n",
    "\n",
    "Increment the large integer by one and return the resulting array of digits.\n",
    "\n",
    "Example 1:\n",
    "\n",
    "Input: digits = [1,2,3]\n",
    "\n",
    "Output: [1,2,4]\n",
    "\n",
    "Pre Placement Training Program | iNeuron\n",
    "\n",
    "Assignment 3 Questions - Arrays | DSA\n",
    "\n",
    "Explanation: The array represents the integer 123.\n",
    "Incrementing by one gives 123 + 1 = 124.\n",
    "Thus, the result should be [1,2,4]."
   ]
  },
  {
   "cell_type": "code",
   "execution_count": 8,
   "id": "d25876b4",
   "metadata": {},
   "outputs": [
    {
     "name": "stdout",
     "output_type": "stream",
     "text": [
      "[1, 2, 4]\n"
     ]
    }
   ],
   "source": [
    "def plusOne(digits):\n",
    "    n = len(digits)\n",
    "    c = 0\n",
    "    if digits[0] != 0:\n",
    "        \n",
    "        for i in range(len(digits)-1, -1, -1):\n",
    "            if i == n-1:\n",
    "                val = digits[i] + c + 1\n",
    "            else:\n",
    "                val = digits[i] + c\n",
    "                \n",
    "            if val <= 9:\n",
    "                c = 0\n",
    "                digits[i] = val\n",
    "            else:\n",
    "                c = val // 10\n",
    "                val = val - 10\n",
    "                digits[i] = val\n",
    "                \n",
    "        if c:\n",
    "            digits.insert(0, c)\n",
    "            \n",
    "        return digits\n",
    "            \n",
    "    \n",
    "digits = [1,2,3]\n",
    "print(plusOne(digits))"
   ]
  },
  {
   "cell_type": "markdown",
   "id": "6b662643",
   "metadata": {},
   "source": [
    "**Question 6**\n",
    "\n",
    "Given a non-empty array of integers nums, every element appears twice except\n",
    "for one. Find that single one.\n",
    "You must implement a solution with a linear runtime complexity and use only\n",
    "constant extra space.\n",
    "\n",
    "Example 1:\n",
    "\n",
    "Input: nums = [2,2,1]\n",
    "\n",
    "Output: 1"
   ]
  },
  {
   "cell_type": "code",
   "execution_count": 9,
   "id": "24928d16",
   "metadata": {},
   "outputs": [
    {
     "name": "stdout",
     "output_type": "stream",
     "text": [
      "5\n"
     ]
    }
   ],
   "source": [
    "def appearingTwice(nums):\n",
    "    \n",
    "    for i in nums:\n",
    "        if nums.count(i) == 1:\n",
    "            return i\n",
    "    \n",
    "    \n",
    "nums= [2, 2, 1, 1, 5]\n",
    "print(appearingTwice(nums))"
   ]
  },
  {
   "cell_type": "markdown",
   "id": "5c152342",
   "metadata": {},
   "source": [
    "**Question 7**\n",
    "\n",
    "You are given an inclusive range [lower, upper] and a sorted unique integer array\n",
    "nums, where all elements are within the inclusive range.\n",
    "A number x is considered missing if x is in the range [lower, upper] and x is not in\n",
    "nums.\n",
    "\n",
    "Return the shortest sorted list of ranges that exactly covers all the missing\n",
    "numbers. That is, no element of nums is included in any of the ranges, and each\n",
    "missing number is covered by one of the ranges.\n",
    "\n",
    "Example 1:\n",
    "\n",
    "Input: nums = [0,1,3,50,75], lower = 0, upper = 99\n",
    "\n",
    "Output: [[2,2],[4,49],[51,74],[76,99]]\n",
    "\n",
    "Explanation: The ranges are:\n",
    "\n",
    "[2,2]\n",
    "[4,49]\n",
    "[51,74]\n",
    "[76,99]"
   ]
  },
  {
   "cell_type": "code",
   "execution_count": 10,
   "id": "f9ecbe19",
   "metadata": {},
   "outputs": [
    {
     "name": "stdout",
     "output_type": "stream",
     "text": [
      "[[2, 2], [4, 49], [51, 74], [76, 99]]\n"
     ]
    }
   ],
   "source": [
    "def missingNumber(nums, low, up):\n",
    "    \n",
    "    if nums[0] >= low and nums[-1] <= up:\n",
    "        lst = []\n",
    "        for i in range(len(nums)-1):\n",
    "            \n",
    "            if nums[i] != nums[i+1]-1:\n",
    "                lst.append([nums[i]+1, nums[i+1]-1])\n",
    "                \n",
    "        if nums[-1] != up:\n",
    "            lst.append([nums[-1]+1, up])\n",
    "    return lst\n",
    "                \n",
    "\n",
    "nums = [0,1,3,50,75] \n",
    "lower = 0 \n",
    "upper = 99\n",
    "print(missingNumber(nums, lower, upper))"
   ]
  },
  {
   "cell_type": "markdown",
   "id": "ac2018f3",
   "metadata": {},
   "source": [
    "**Question 8**\n",
    "\n",
    "Given an array of meeting time intervals where intervals[i] = [starti, endi],\n",
    "determine if a person could attend all meetings.\n",
    "\n",
    "Example 1:\n",
    "\n",
    "Input: intervals = [[0,30],[5,10],[15,20]]\n",
    "\n",
    "Output: false"
   ]
  },
  {
   "cell_type": "code",
   "execution_count": 11,
   "id": "a2f0304a",
   "metadata": {},
   "outputs": [
    {
     "name": "stdout",
     "output_type": "stream",
     "text": [
      "False\n"
     ]
    }
   ],
   "source": [
    "def attendMeeting(intervals):\n",
    "    intervals.sort()\n",
    "    for i in range(len(intervals)-1):\n",
    "        if intervals[i][-1] > intervals[i+1][0]:\n",
    "            return False\n",
    "    return True\n",
    "\n",
    "intervals = [[0,30],[5,10],[15,20]]\n",
    "print(attendMeeting(intervals))    "
   ]
  },
  {
   "cell_type": "code",
   "execution_count": null,
   "id": "07d3db01",
   "metadata": {},
   "outputs": [],
   "source": []
  }
 ],
 "metadata": {
  "kernelspec": {
   "display_name": "Python 3 (ipykernel)",
   "language": "python",
   "name": "python3"
  },
  "language_info": {
   "codemirror_mode": {
    "name": "ipython",
    "version": 3
   },
   "file_extension": ".py",
   "mimetype": "text/x-python",
   "name": "python",
   "nbconvert_exporter": "python",
   "pygments_lexer": "ipython3",
   "version": "3.7.4"
  }
 },
 "nbformat": 4,
 "nbformat_minor": 5
}
