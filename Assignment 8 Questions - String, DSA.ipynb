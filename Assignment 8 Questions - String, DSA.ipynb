{
 "cells": [
  {
   "cell_type": "markdown",
   "id": "4ae3e07d",
   "metadata": {},
   "source": [
    "💡 **Question 1**\n",
    "\n",
    "Given two strings s1 and s2, return *the lowest **ASCII** sum of deleted characters to make two strings equal*.\n",
    "\n",
    "**Example 1:**\n",
    "\n",
    "**Input:** s1 = \"sea\", s2 = \"eat\"\n",
    "\n",
    "**Output:** 231\n",
    "\n",
    "**Explanation:** Deleting \"s\" from \"sea\" adds the ASCII value of \"s\" (115) to the sum.\n",
    "\n",
    "Deleting \"t\" from \"eat\" adds 116 to the sum.\n",
    "\n",
    "At the end, both strings are equal, and 115 + 116 = 231 is the minimum sum possible to achieve this."
   ]
  },
  {
   "cell_type": "code",
   "execution_count": 1,
   "id": "9d2a670c",
   "metadata": {},
   "outputs": [
    {
     "name": "stdout",
     "output_type": "stream",
     "text": [
      "403\n"
     ]
    }
   ],
   "source": [
    "def minimumDeleteSum(s1, s2):\n",
    "    m, n = len(s1), len(s2)\n",
    "    dp = [[0] * (m + 1) for _ in range(n + 1)]\n",
    "\n",
    "    for i in range(1, m + 1):\n",
    "        for j in range(1, n + 1):\n",
    "            if s1[i - 1] == s2[j - 1]:\n",
    "                dp[j][i] = dp[j - 1][i - 1] + ord(s1[i - 1])\n",
    "            else:\n",
    "                dp[j][i] = max(dp[j - 1][i], dp[j][i - 1])\n",
    "    return sum(map(ord, s1 + s2)) - dp[-1][-1] * 2\n",
    "\n",
    "s1 = \"delete\"\n",
    "s2 = \"leet\"\n",
    "print(minimumDeleteSum(s1, s2))"
   ]
  },
  {
   "cell_type": "markdown",
   "id": "d073a227",
   "metadata": {},
   "source": [
    "💡 **Question 2**\n",
    "\n",
    "Given a string s containing only three types of characters: '(', ')' and '*', return true *if* s *is **valid***.\n",
    "\n",
    "The following rules define a **valid** string:\n",
    "\n",
    "- Any left parenthesis '(' must have a corresponding right parenthesis ')'.\n",
    "- Any right parenthesis ')' must have a corresponding left parenthesis '('.\n",
    "- Left parenthesis '(' must go before the corresponding right parenthesis ')'.\n",
    "- '*' could be treated as a single right parenthesis ')' or a single left parenthesis '(' or an empty string \"\".\n",
    "\n",
    "**Example 1:**\n",
    "\n",
    "**Input:** s = \"()\"\n",
    "\n",
    "**Output:**\n",
    "\n",
    "true"
   ]
  },
  {
   "cell_type": "code",
   "execution_count": 2,
   "id": "1fdc1304",
   "metadata": {},
   "outputs": [
    {
     "name": "stdout",
     "output_type": "stream",
     "text": [
      "True\n"
     ]
    }
   ],
   "source": [
    "def checkValidString(s):\n",
    "    lst = []\n",
    "    if s[0] in ['(','*'] and s[-1] in (')', '*'): \n",
    "        for i in range(len(s)):\n",
    "            if s[i] == '(' or s[i] == '*':\n",
    "                lst.append(s[i])\n",
    "            elif s[i] == ')' and '(' in lst:\n",
    "                lst.remove('(')\n",
    "            elif s[i] == ')' and '(' not in lst and '*' not in lst:\n",
    "                return False\n",
    "            elif s[i] == ')' and '(' not in lst:\n",
    "                lst.remove('*')\n",
    "\n",
    "\n",
    "        if lst.count('*') == len(lst) or len(lst) == 0:\n",
    "            return True\n",
    "        elif lst.count('(') + lst.count('*') == len(lst):\n",
    "            return False \n",
    "\n",
    "    else:\n",
    "        return False\n",
    "    \n",
    "s = \"()\"\n",
    "print(checkValidString(s))"
   ]
  },
  {
   "cell_type": "markdown",
   "id": "97c8dde9",
   "metadata": {},
   "source": [
    "💡 **uestion 3**\n",
    "\n",
    "Given two strings word1 and word2, return *the minimum number of **steps** required to make* word1 *and* word2 *the same*.\n",
    "\n",
    "In one **step**, you can delete exactly one character in either string.\n",
    "\n",
    "**Example 1:**\n",
    "\n",
    "**Input:** word1 = \"sea\", word2 = \"eat\"\n",
    "\n",
    "**Output:** 2\n",
    "\n",
    "**Explanation:** You need one step to make \"sea\" to \"ea\" and another step to make \"eat\" to \"ea\"."
   ]
  },
  {
   "cell_type": "code",
   "execution_count": 4,
   "id": "bfb74223",
   "metadata": {},
   "outputs": [
    {
     "name": "stdout",
     "output_type": "stream",
     "text": [
      "2\n"
     ]
    }
   ],
   "source": [
    "def minDistance(word1, word2):\n",
    "    if len(word1)>len(word2):\n",
    "        word2,word1=word1,word2        \n",
    "\n",
    "    m,n=len(word1),len(word2)\n",
    "    prev=[0] * (m+1)\n",
    "\n",
    "    for i in range(n-1, -1, -1):\n",
    "        curr=[0] * (m+1)\n",
    "        for j in range(m-1, -1, -1):\n",
    "            if word1[j] == word2[i]:\n",
    "                curr[j]=1 + prev[j+1]\n",
    "            else:\n",
    "                curr[j]=max(curr[j+1], prev[j])\n",
    "        prev=curr\n",
    "    return m + n - 2*prev[0]\n",
    "\n",
    "word1 = \"sea\"\n",
    "word2 = \"eat\"\n",
    "print(minDistance(word1, word2))"
   ]
  },
  {
   "cell_type": "markdown",
   "id": "c83fdf8d",
   "metadata": {},
   "source": [
    "💡 **Question 5**\n",
    "\n",
    "Given an array of characters chars, compress it using the following algorithm:\n",
    "\n",
    "Begin with an empty string s. For each group of **consecutive repeating characters** in chars:\n",
    "\n",
    "- If the group's length is 1, append the character to s.\n",
    "- Otherwise, append the character followed by the group's length.\n",
    "\n",
    "The compressed string s **should not be returned separately**, but instead, be stored **in the input character array chars**. Note that group lengths that are 10 or longer will be split into multiple characters in chars.\n",
    "\n",
    "After you are done **modifying the input array,** return *the new length of the array*.\n",
    "\n",
    "You must write an algorithm that uses only constant extra space.\n",
    "\n",
    "**Example 1:**\n",
    "\n",
    "**Input:** chars = [\"a\",\"a\",\"b\",\"b\",\"c\",\"c\",\"c\"]\n",
    "\n",
    "**Output:** Return 6, and the first 6 characters of the input array should be: [\"a\",\"2\",\"b\",\"2\",\"c\",\"3\"]\n",
    "\n",
    "**Explanation:**\n",
    "\n",
    "The groups are \"aa\", \"bb\", and \"ccc\". This compresses to \"a2b2c3\"."
   ]
  },
  {
   "cell_type": "code",
   "execution_count": 2,
   "id": "393ce6a0",
   "metadata": {},
   "outputs": [
    {
     "name": "stdout",
     "output_type": "stream",
     "text": [
      "6\n"
     ]
    }
   ],
   "source": [
    "def compress(chars):\n",
    "    i=0\n",
    "    count=1\n",
    "    while i<len(chars)-1:\n",
    "        if chars[i+1]==chars[i]:\n",
    "            chars.pop(i+1)\n",
    "            count+=1\n",
    "        elif count>1:\n",
    "            cc=[*str(count)]\n",
    "            for j in range(len(cc)):\n",
    "                chars.insert(i+j+1,cc[j])\n",
    "            count=1\n",
    "            i+=len(cc)+1\n",
    "        else:\n",
    "            i+=1\n",
    "    if count>1:\n",
    "        chars+=[*str(count)]\n",
    "    return len(chars)\n",
    "\n",
    "chars = [\"a\",\"a\",\"b\",\"b\",\"c\",\"c\",\"c\"]\n",
    "print(compress(chars))"
   ]
  },
  {
   "cell_type": "markdown",
   "id": "a056e809",
   "metadata": {},
   "source": [
    "💡 **uestion 6**\n",
    "\n",
    "Given two strings s and p, return *an array of all the start indices of* p*'s anagrams in* s. You may return the answer in **any order**.\n",
    "\n",
    "An **Anagram** is a word or phrase formed by rearranging the letters of a different word or phrase, typically using all the original letters exactly once.\n",
    "\n",
    "**Example 1:**\n",
    "\n",
    "**Input:** s = \"cbaebabacd\", p = \"abc\"\n",
    "\n",
    "**Output:** [0,6]\n",
    "\n",
    "**Explanation:**\n",
    "\n",
    "The substring with start index = 0 is \"cba\", which is an anagram of \"abc\".\n",
    "\n",
    "The substring with start index = 6 is \"bac\", which is an anagram of \"abc\"."
   ]
  },
  {
   "cell_type": "code",
   "execution_count": 3,
   "id": "906fd662",
   "metadata": {},
   "outputs": [
    {
     "name": "stdout",
     "output_type": "stream",
     "text": [
      "[0, 6]\n"
     ]
    }
   ],
   "source": [
    "import collections\n",
    "\n",
    "def findAnagrams(s, p):\n",
    "    hm, res, pL, sL = collections.defaultdict(int), [], len(p), len(s)\n",
    "    if pL > sL: return []\n",
    "\n",
    "    for ch in p: hm[ch] += 1\n",
    "\n",
    "    for i in range(pL-1):\n",
    "        if s[i] in hm: hm[s[i]] -= 1\n",
    "\n",
    "    for i in range(-1, sL-pL+1):\n",
    "        if i > -1 and s[i] in hm:\n",
    "            hm[s[i]] += 1\n",
    "        if i+pL < sL and s[i+pL] in hm: \n",
    "            hm[s[i+pL]] -= 1\n",
    "\n",
    "        if all(v == 0 for v in hm.values()): \n",
    "            res.append(i+1)\n",
    "\n",
    "    return res\n",
    "\n",
    "\n",
    "s = \"cbaebabacd\"\n",
    "p = \"abc\"\n",
    "print(findAnagrams(s, p))"
   ]
  },
  {
   "cell_type": "markdown",
   "id": "84babe86",
   "metadata": {},
   "source": [
    "💡 **stion 7**\n",
    "\n",
    "Given an encoded string, return its decoded string.\n",
    "\n",
    "The encoding rule is: k[encoded_string], where the encoded_string inside the square brackets is being repeated exactly k times. Note that k is guaranteed to be a positive integer.\n",
    "\n",
    "You may assume that the input string is always valid; there are no extra white spaces, square brackets are well-formed, etc. Furthermore, you may assume that the original data does not contain any digits and that digits are only for those repeat numbers, k. For example, there will not be input like 3a or 2[4].\n",
    "\n",
    "The test cases are generated so that the length of the output will never exceed 105.\n",
    "\n",
    "**Example 1:**\n",
    "\n",
    "**Input:** s = \"3[a]2[bc]\"\n",
    "\n",
    "**Output:** \"aaabcbc\""
   ]
  },
  {
   "cell_type": "code",
   "execution_count": 4,
   "id": "0efa5d8c",
   "metadata": {},
   "outputs": [
    {
     "name": "stdout",
     "output_type": "stream",
     "text": [
      "aaabcbc\n"
     ]
    }
   ],
   "source": [
    "def decodeString(s):\n",
    "    st = []\n",
    "    num = 0\n",
    "    res = ''\n",
    "\n",
    "    for ch in s:\n",
    "        if ch.isnumeric():\n",
    "            num = num * 10 + int(ch)\n",
    "        elif ch == '[':\n",
    "            st.append(res)\n",
    "            st.append(num)\n",
    "            res = ''\n",
    "            num = 0\n",
    "        elif ch == ']':\n",
    "            cnt = st.pop()\n",
    "            prev = st.pop()\n",
    "            res = prev + cnt * res\n",
    "        else:\n",
    "            res += ch\n",
    "    return res\n",
    "s = \"3[a]2[bc]\"\n",
    "print(decodeString(s))"
   ]
  },
  {
   "cell_type": "markdown",
   "id": "349f1ab5",
   "metadata": {},
   "source": [
    "💡 **Question 8**\n",
    "\n",
    "Given two strings s and goal, return true *if you can swap two letters in* s *so the result is equal to* goal*, otherwise, return* false*.*\n",
    "\n",
    "Swapping letters is defined as taking two indices i and j (0-indexed) such that i != j and swapping the characters at s[i] and s[j].\n",
    "\n",
    "- For example, swapping at indices 0 and 2 in \"abcd\" results in \"cbad\".\n",
    "\n",
    "**Example 1:**\n",
    "\n",
    "**Input:** s = \"ab\", goal = \"ba\"\n",
    "\n",
    "**Output:** true\n",
    "\n",
    "**Explanation:** You can swap s[0] = 'a' and s[1] = 'b' to get \"ba\", which is equal to goal."
   ]
  },
  {
   "cell_type": "code",
   "execution_count": 5,
   "id": "f1b266bc",
   "metadata": {},
   "outputs": [
    {
     "name": "stdout",
     "output_type": "stream",
     "text": [
      "True\n"
     ]
    }
   ],
   "source": [
    "def buddyStrings(A, B):\n",
    "\n",
    "    if len(A) != len(B): return False\n",
    "\n",
    "    if A == B:\n",
    "        return True if len(A) - len(set(A)) >= 1 else False\n",
    "\n",
    "    diff = []\n",
    "    for i in range(len(A)):\n",
    "        if A[i] != B[i]:\n",
    "            diff.append(i)\n",
    "            if len(diff) > 2: return False\n",
    "\n",
    "    if len(diff) != 2: return False\n",
    "\n",
    "    if A[diff[0]] == B[diff[1]] and A[diff[1]] == B[diff[0]]:\n",
    "        return True\n",
    "\n",
    "    return False\n",
    "\n",
    "s = \"ab\"\n",
    "goal = \"ba\"\n",
    "print(buddyStrings(s, goal))"
   ]
  },
  {
   "cell_type": "code",
   "execution_count": null,
   "id": "b6787427",
   "metadata": {},
   "outputs": [],
   "source": []
  }
 ],
 "metadata": {
  "kernelspec": {
   "display_name": "Python 3 (ipykernel)",
   "language": "python",
   "name": "python3"
  },
  "language_info": {
   "codemirror_mode": {
    "name": "ipython",
    "version": 3
   },
   "file_extension": ".py",
   "mimetype": "text/x-python",
   "name": "python",
   "nbconvert_exporter": "python",
   "pygments_lexer": "ipython3",
   "version": "3.7.4"
  }
 },
 "nbformat": 4,
 "nbformat_minor": 5
}
