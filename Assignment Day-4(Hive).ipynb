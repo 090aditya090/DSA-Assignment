{
 "cells": [
  {
   "cell_type": "markdown",
   "id": "91905e60",
   "metadata": {},
   "source": [
    "**1.** Write a Python program that uses the HiveQL language to create a table named\n",
    "\"Employees\" with columns for \"id,\" \"name,\" and \"salary.\""
   ]
  },
  {
   "cell_type": "code",
   "execution_count": null,
   "id": "91906117",
   "metadata": {},
   "outputs": [],
   "source": [
    "from pyhive import hive\n",
    "\n",
    "def create_employees_table():\n",
    "    conn = hive.Connection(host=\"localhost\", port=10000, username=\"your_username\")\n",
    "    cursor = conn.cursor()\n",
    "\n",
    "    create_table_query = \"\"\"\n",
    "        CREATE TABLE Employees (\n",
    "            id INT,\n",
    "            name STRING,\n",
    "            salary FLOAT\n",
    "        )\n",
    "    \"\"\"\n",
    "\n",
    "    cursor.execute(create_table_query)\n",
    "    print(\"Employees table created successfully.\")\n",
    "\n",
    "    cursor.close()\n",
    "    conn.close()\n",
    "\n",
    "# Example usage\n",
    "create_employees_table()"
   ]
  },
  {
   "cell_type": "markdown",
   "id": "ae85e8a9",
   "metadata": {},
   "source": [
    "**2.** Create a Python program that retrieves records from a Hive table named\n",
    "\"Customers\" where the age is greater than 30."
   ]
  },
  {
   "cell_type": "code",
   "execution_count": null,
   "id": "2c6d9638",
   "metadata": {},
   "outputs": [],
   "source": [
    "from pyhive import hive\n",
    "\n",
    "def retrieve_customers_records():\n",
    "    conn = hive.Connection(host=\"localhost\", port=10000, username=\"your_username\")\n",
    "    cursor = conn.cursor()\n",
    "\n",
    "    select_query = \"SELECT * FROM Customers WHERE age > 30\"\n",
    "    cursor.execute(select_query)\n",
    "\n",
    "    records = cursor.fetchall()\n",
    "    for record in records:\n",
    "        print(record)\n",
    "\n",
    "    cursor.close()\n",
    "    conn.close()\n",
    "\n",
    "# Example usage\n",
    "retrieve_customers_records()"
   ]
  },
  {
   "cell_type": "markdown",
   "id": "75c42c4c",
   "metadata": {},
   "source": [
    "**3.** Write a Python script that sorts records in descending order based on the\n",
    "\"timestamp\" column in a Hive table named \"Logs.\""
   ]
  },
  {
   "cell_type": "code",
   "execution_count": null,
   "id": "1f77a828",
   "metadata": {},
   "outputs": [],
   "source": [
    "from pyhive import hive\n",
    "\n",
    "def sort_logs_by_timestamp():\n",
    "    conn = hive.Connection(host=\"localhost\", port=10000, username=\"your_username\")\n",
    "    cursor = conn.cursor()\n",
    "\n",
    "    sort_query = \"SELECT * FROM Logs ORDER BY timestamp DESC\"\n",
    "    cursor.execute(sort_query)\n",
    "\n",
    "    records = cursor.fetchall()\n",
    "    for record in records:\n",
    "        print(record)\n",
    "\n",
    "    cursor.close()\n",
    "    conn.close()\n",
    "\n",
    "# Example usage\n",
    "sort_logs_by_timestamp()"
   ]
  },
  {
   "cell_type": "markdown",
   "id": "60edcef3",
   "metadata": {},
   "source": [
    "**4.** Write a Python program that connects to a Hive server using PyHive library and\n",
    "retrieves all records from a table named \"Products\"."
   ]
  },
  {
   "cell_type": "code",
   "execution_count": null,
   "id": "14ba641b",
   "metadata": {},
   "outputs": [],
   "source": [
    "from pyhive import hive\n",
    "\n",
    "def retrieve_products_records():\n",
    "    conn = hive.Connection(host=\"localhost\", port=10000, username=\"your_username\")\n",
    "    cursor = conn.cursor()\n",
    "\n",
    "    select_query = \"SELECT * FROM Products\"\n",
    "    cursor.execute(select_query)\n",
    "\n",
    "    records = cursor.fetchall()\n",
    "    for record in records:\n",
    "        print(record)\n",
    "\n",
    "    cursor.close()\n",
    "    conn.close()\n",
    "\n",
    "# Example usage\n",
    "retrieve_products_records()"
   ]
  },
  {
   "cell_type": "markdown",
   "id": "a2a2e30f",
   "metadata": {},
   "source": [
    "**5.** Write a Python script that calculates the average salary of employees from a Hive\n",
    "table named \"Employees\"."
   ]
  },
  {
   "cell_type": "code",
   "execution_count": null,
   "id": "01d08247",
   "metadata": {},
   "outputs": [],
   "source": [
    "from pyhive import hive\n",
    "\n",
    "def calculate_average_salary():\n",
    "    conn = hive.Connection(host=\"localhost\", port=10000, username=\"your_username\")\n",
    "    cursor = conn.cursor()\n",
    "\n",
    "    select_query = \"SELECT AVG(salary) FROM Employees\"\n",
    "    cursor.execute(select_query)\n",
    "\n",
    "    average_salary = cursor.fetchone()[0]\n",
    "    print(\"Average salary of employees:\", average_salary)\n",
    "\n",
    "    cursor.close()\n",
    "    conn.close()\n",
    "\n",
    "# Example usage\n",
    "calculate_average_salary()"
   ]
  },
  {
   "cell_type": "markdown",
   "id": "38857c30",
   "metadata": {},
   "source": [
    "**6.** Implement a Python program that uses Hive partitioning to create a partitioned\n",
    "table named \"Sales_Data\" based on the \"year\" and \"month\" columns."
   ]
  },
  {
   "cell_type": "code",
   "execution_count": null,
   "id": "83527b8d",
   "metadata": {},
   "outputs": [],
   "source": [
    "from pyhive import hive\n",
    "\n",
    "def create_partitioned_table():\n",
    "    conn = hive.Connection(host=\"localhost\", port=10000, username=\"your_username\")\n",
    "    cursor = conn.cursor()\n",
    "\n",
    "    create_table_query = \"\"\"\n",
    "        CREATE TABLE Sales_Data (\n",
    "            id INT,\n",
    "            sales FLOAT\n",
    "        )\n",
    "        PARTITIONED BY (year INT, month INT)\n",
    "    \"\"\"\n",
    "\n",
    "    cursor.execute(create_table_query)\n",
    "    print(\"Partitioned table Sales_Data created successfully.\")\n",
    "\n",
    "    cursor.close()\n",
    "    conn.close()\n",
    "\n",
    "# Example usage\n",
    "create_partitioned_table()"
   ]
  },
  {
   "cell_type": "markdown",
   "id": "baaffc9f",
   "metadata": {},
   "source": [
    "**7.** Develop a Python script that adds a new column named \"email\" of type string to an\n",
    "existing Hive table named \"Employees\"."
   ]
  },
  {
   "cell_type": "code",
   "execution_count": null,
   "id": "415ffda7",
   "metadata": {},
   "outputs": [],
   "source": [
    "from pyhive import hive\n",
    "\n",
    "def add_email_column():\n",
    "    conn = hive.Connection(host=\"localhost\", port=10000, username=\"your_username\")\n",
    "    cursor = conn.cursor()\n",
    "\n",
    "    alter_table_query = \"ALTER TABLE Employees ADD COLUMNS (email STRING)\"\n",
    "    cursor.execute(alter_table_query)\n",
    "    print(\"Column email added to the Employees table.\")\n",
    "\n",
    "    cursor.close()\n",
    "    conn.close()\n",
    "\n",
    "# Example usage\n",
    "add_email_column()"
   ]
  },
  {
   "cell_type": "markdown",
   "id": "355dc81f",
   "metadata": {},
   "source": [
    "**8.** Create a Python program that performs an inner join between two Hive tables,\n",
    "\"Orders\" and \"Customers,\" based on a common column."
   ]
  },
  {
   "cell_type": "code",
   "execution_count": null,
   "id": "e281bef0",
   "metadata": {},
   "outputs": [],
   "source": [
    "from pyhive import hive\n",
    "\n",
    "def perform_inner_join():\n",
    "    conn = hive.Connection(host=\"localhost\", port=10000, username=\"your_username\")\n",
    "    cursor = conn.cursor()\n",
    "\n",
    "    join_query = \"\"\"\n",
    "        SELECT Orders.*, Customers.*\n",
    "        FROM Orders\n",
    "        INNER JOIN Customers ON Orders.customer_id = Customers.customer_id\n",
    "    \"\"\"\n",
    "\n",
    "    cursor.execute(join_query)\n",
    "\n",
    "    records = cursor.fetchall()\n",
    "    for record in records:\n",
    "        print(record)\n",
    "\n",
    "    cursor.close()\n",
    "    conn.close()\n",
    "\n",
    "# Example usage\n",
    "perform_inner_join()"
   ]
  },
  {
   "cell_type": "markdown",
   "id": "bf0737e1",
   "metadata": {},
   "source": [
    "**9.** Implement a Python program that uses the Hive SerDe library to process JSON\n",
    "data stored in a Hive table named \"User_Activity_Logs\"."
   ]
  },
  {
   "cell_type": "code",
   "execution_count": null,
   "id": "4ca655bb",
   "metadata": {},
   "outputs": [],
   "source": [
    "from pyhive import hive\n",
    "\n",
    "def process_user_activity_logs():\n",
    "    conn = hive.Connection(host=\"localhost\", port=10000, username=\"your_username\")\n",
    "    cursor = conn.cursor()\n",
    "\n",
    "    select_query = \"SELECT * FROM User_Activity_Logs\"\n",
    "    cursor.execute(select_query)\n",
    "\n",
    "    records = cursor.fetchall()\n",
    "    for record in records:\n",
    "        print(record)\n",
    "\n",
    "    cursor.close()\n",
    "    conn.close()\n",
    "\n",
    "# Example usage\n",
    "process_user_activity_logs()"
   ]
  }
 ],
 "metadata": {
  "kernelspec": {
   "display_name": "Python 3 (ipykernel)",
   "language": "python",
   "name": "python3"
  },
  "language_info": {
   "codemirror_mode": {
    "name": "ipython",
    "version": 3
   },
   "file_extension": ".py",
   "mimetype": "text/x-python",
   "name": "python",
   "nbconvert_exporter": "python",
   "pygments_lexer": "ipython3",
   "version": "3.7.4"
  }
 },
 "nbformat": 4,
 "nbformat_minor": 5
}
