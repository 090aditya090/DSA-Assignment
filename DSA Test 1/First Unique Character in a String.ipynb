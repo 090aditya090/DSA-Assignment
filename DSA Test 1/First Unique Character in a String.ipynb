{
 "cells": [
  {
   "cell_type": "markdown",
   "id": "78dc9f08",
   "metadata": {},
   "source": [
    "Given a string s, find the first non-repeating character in it and return its index. If it does not exist, return -1.\n",
    "\n",
    "**Example 1:**\n",
    "Input: s = \"leetcode\"\n",
    "Output: 0\n",
    "\n",
    "**Example 2:**\n",
    "Input: s = \"loveleetcode\"\n",
    "Output: 2\n",
    "\n",
    "**Example 3:**\n",
    "Input: s = \"aabb\"\n",
    "Output: -1\n",
    "\n",
    "**Constraints:**\n",
    "a. 1 <= s.length <= 10^5\n",
    "b. s consists of only lowercase English letters."
   ]
  },
  {
   "cell_type": "code",
   "execution_count": 7,
   "id": "45c4269f",
   "metadata": {},
   "outputs": [
    {
     "name": "stdout",
     "output_type": "stream",
     "text": [
      "-1\n"
     ]
    }
   ],
   "source": [
    "def firstUniqueCharacter(s):\n",
    "    h_map = {}\n",
    "    ip = list(s)\n",
    "    for i in ip:\n",
    "        if ip.count(i) == 1:\n",
    "            return ip.index(i)\n",
    "    return -1\n",
    "    \n",
    "s = \"aabb\"   \n",
    "print(firstUniqueCharacter(s))"
   ]
  },
  {
   "cell_type": "code",
   "execution_count": null,
   "id": "40c2fe54",
   "metadata": {},
   "outputs": [],
   "source": []
  }
 ],
 "metadata": {
  "kernelspec": {
   "display_name": "Python 3 (ipykernel)",
   "language": "python",
   "name": "python3"
  },
  "language_info": {
   "codemirror_mode": {
    "name": "ipython",
    "version": 3
   },
   "file_extension": ".py",
   "mimetype": "text/x-python",
   "name": "python",
   "nbconvert_exporter": "python",
   "pygments_lexer": "ipython3",
   "version": "3.7.4"
  }
 },
 "nbformat": 4,
 "nbformat_minor": 5
}
