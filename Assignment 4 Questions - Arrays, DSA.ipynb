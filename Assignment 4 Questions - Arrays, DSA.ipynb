{
 "cells": [
  {
   "cell_type": "markdown",
   "id": "bc6119af",
   "metadata": {},
   "source": [
    "**Question 1**\n",
    "Given three integer arrays arr1, arr2 and arr3 **sorted** in **strictly increasing** order, return a sorted array of **only** the integers that appeared in **all** three arrays.\n",
    "\n",
    "**Example 1:**\n",
    "\n",
    "Input: arr1 = [1,2,3,4,5], arr2 = [1,2,5,7,9], arr3 = [1,3,4,5,8]\n",
    "\n",
    "Output: [1,5]\n",
    "\n",
    "**Explanation:** Only 1 and 5 appeared in the three arrays."
   ]
  },
  {
   "cell_type": "code",
   "execution_count": 1,
   "id": "7c9170c2",
   "metadata": {},
   "outputs": [
    {
     "name": "stdout",
     "output_type": "stream",
     "text": [
      "[1, 5]\n"
     ]
    }
   ],
   "source": [
    "def commonElement(A, B, C):\n",
    "    result = []\n",
    "    i,j,k = 0,0,0\n",
    "    a,b,c = len(A), len(B), len(C)\n",
    "    \n",
    "    while i < a and j < b and k < c:\n",
    "        \n",
    "        if A[i] == B[j] and A[i] == C[k]:\n",
    "            result.append(A[i])\n",
    "            i += 1\n",
    "            j += 1\n",
    "            k += 1\n",
    "            \n",
    "        else:\n",
    "            m = max(A[i], B[j], C[k])\n",
    "            \n",
    "            if A[i] < m:\n",
    "                i += 1\n",
    "                \n",
    "            if B[j] < m:\n",
    "                j += 1\n",
    "                \n",
    "            if C[k] < m:\n",
    "                k += 1\n",
    "                \n",
    "    return result\n",
    "    \n",
    "    \n",
    "arr1 = [1,2,3,4,5]\n",
    "arr2 = [1,2,5,7,9]\n",
    "arr3 = [1,3,4,5,8]\n",
    "print(commonElement(arr1, arr2, arr3))"
   ]
  },
  {
   "cell_type": "markdown",
   "id": "916c0cf7",
   "metadata": {},
   "source": [
    "**Question 2**\n",
    "\n",
    "Given two **0-indexed** integer arrays nums1 and nums2, return *a list* answer *of size* 2 *where:*\n",
    "\n",
    "- answer[0] *is a list of all **distinct** integers in* nums1 *which are **not** present in* nums2*.*\n",
    "- answer[1] *is a list of all **distinct** integers in* nums2 *which are **not** present in* nums1.\n",
    "\n",
    "**Note** that the integers in the lists may be returned in **any** order.\n",
    "\n",
    "**Example 1:**\n",
    "\n",
    "**Input:** nums1 = [1,2,3], nums2 = [2,4,6]\n",
    "\n",
    "**Output:** [[1,3],[4,6]]\n",
    "\n",
    "**Explanation:**\n",
    "\n",
    "For nums1, nums1[1] = 2 is present at index 0 of nums2, whereas nums1[0] = 1 and nums1[2] = 3 are not present in nums2. Therefore, answer[0] = [1,3].\n",
    "\n",
    "For nums2, nums2[0] = 2 is present at index 1 of nums1, whereas nums2[1] = 4 and nums2[2] = 6 are not present in nums2. Therefore, answer[1] = [4,6]."
   ]
  },
  {
   "cell_type": "code",
   "execution_count": 3,
   "id": "8eaa702f",
   "metadata": {},
   "outputs": [
    {
     "name": "stdout",
     "output_type": "stream",
     "text": [
      "[[1, 3], [4, 6]]\n"
     ]
    }
   ],
   "source": [
    "def answer(num1, num2):\n",
    "    \n",
    "    a0 = []\n",
    "    for i in num1:\n",
    "        if i not in num2:\n",
    "            a0.append(i)\n",
    "            \n",
    "    a1 = []\n",
    "    for i in num2:\n",
    "        if i not in num1:\n",
    "            a1.append(i)\n",
    "             \n",
    "    return [a0, a1]\n",
    "        \n",
    "\n",
    "nums1 = [1,2,3]\n",
    "nums2 = [2,4,6]\n",
    "print(answer(nums1, nums2))"
   ]
  },
  {
   "cell_type": "markdown",
   "id": "a81845b7",
   "metadata": {},
   "source": [
    "**Question 3**\n",
    "Given a 2D integer array matrix, return *the **transpose** of* matrix.\n",
    "\n",
    "The **transpose** of a matrix is the matrix flipped over its main diagonal, switching the matrix's row and column indices.\n",
    "\n",
    "**Example 1:**\n",
    "\n",
    "Input: matrix = [[1,2,3],[4,5,6],[7,8,9]]\n",
    "\n",
    "Output: [[1,4,7],[2,5,8],[3,6,9]]"
   ]
  },
  {
   "cell_type": "code",
   "execution_count": 4,
   "id": "81620986",
   "metadata": {},
   "outputs": [
    {
     "name": "stdout",
     "output_type": "stream",
     "text": [
      "[[1, 4, 7], [2, 5, 8], [3, 6, 9]]\n"
     ]
    }
   ],
   "source": [
    "def transpose(M):\n",
    "    N = [[0 for l in range(len(M))] for m in range(len(M[0]))]\n",
    "    i = 0\n",
    "    j = 0\n",
    "    for i in range(len(M)):\n",
    "        for j in range(len(M[0])):\n",
    "            N[j][i] = M[i][j]\n",
    "        \n",
    "    return N\n",
    "\n",
    "\n",
    "matrix = [[1,2,3],[4,5,6],[7,8,9]]\n",
    "print(transpose(matrix))"
   ]
  },
  {
   "cell_type": "markdown",
   "id": "cc09eb66",
   "metadata": {},
   "source": [
    "**Question 4**\n",
    "Given an integer array nums of 2n integers, group these integers into n pairs (a1, b1), (a2, b2), ..., (an, bn) such that the sum of min(ai, bi) for all i is **maximized**. Return *the maximized sum*.\n",
    "\n",
    "**Example 1:**\n",
    "\n",
    "Input: nums = [1,4,3,2]\n",
    "\n",
    "Output: 4\n",
    "\n",
    "**Explanation:** All possible pairings (ignoring the ordering of elements) are:\n",
    "\n",
    "1. (1, 4), (2, 3) -> min(1, 4) + min(2, 3) = 1 + 2 = 3\n",
    "\n",
    "2. (1, 3), (2, 4) -> min(1, 3) + min(2, 4) = 1 + 2 = 3\n",
    "\n",
    "3. (1, 2), (3, 4) -> min(1, 2) + min(3, 4) = 1 + 3 = 4\n",
    "\n",
    "So the maximum possible sum is 4."
   ]
  },
  {
   "cell_type": "code",
   "execution_count": 5,
   "id": "eb8ec927",
   "metadata": {},
   "outputs": [
    {
     "name": "stdout",
     "output_type": "stream",
     "text": [
      "4\n"
     ]
    }
   ],
   "source": [
    "def maximizedSum(nums):\n",
    "    nums.sort()\n",
    "    \n",
    "    s = 0\n",
    "    for i in range(0, len(nums), 2):\n",
    "        s = s+nums[i] \n",
    "    return s\n",
    "    \n",
    "nums = [1,4,3,2]\n",
    "print(maximizedSum(nums))"
   ]
  },
  {
   "cell_type": "markdown",
   "id": "ab44ab18",
   "metadata": {},
   "source": [
    "**Question 5**\n",
    "You have n coins and you want to build a staircase with these coins. The staircase consists of k rows where the ith row has exactly i coins. The last row of the staircase **may be** incomplete.\n",
    "\n",
    "Given the integer n, return *the number of **complete rows** of the staircase you will build*."
   ]
  },
  {
   "cell_type": "code",
   "execution_count": 2,
   "id": "7ad48014",
   "metadata": {},
   "outputs": [
    {
     "name": "stdout",
     "output_type": "stream",
     "text": [
      "2\n"
     ]
    }
   ],
   "source": [
    "def staircase(n):\n",
    "    if n <= 0:\n",
    "        return 0\n",
    "    \n",
    "    for i in range(1,n+1):\n",
    "        n = n-i\n",
    "        if n == 0:\n",
    "            return i\n",
    "        elif n < 0:\n",
    "            return i-1\n",
    "\n",
    "    \n",
    "n = 5\n",
    "print(staircase(n))"
   ]
  },
  {
   "cell_type": "markdown",
   "id": "dd02660b",
   "metadata": {},
   "source": [
    "**Question 6**\n",
    "Given an integer array nums sorted in **non-decreasing** order, return *an array of **the squares of each number** sorted in non-decreasing order*.\n",
    "\n",
    "**Example 1:**\n",
    "\n",
    "Input: nums = [-4,-1,0,3,10]\n",
    "\n",
    "Output: [0,1,9,16,100]\n",
    "\n",
    "**Explanation:** After squaring, the array becomes [16,1,0,9,100].\n",
    "After sorting, it becomes [0,1,9,16,100]"
   ]
  },
  {
   "cell_type": "code",
   "execution_count": 3,
   "id": "e88b2727",
   "metadata": {},
   "outputs": [
    {
     "name": "stdout",
     "output_type": "stream",
     "text": [
      "[0, 1, 9, 16, 100]\n"
     ]
    }
   ],
   "source": [
    "def squareNumber(nums):\n",
    "    num = []\n",
    "    i = 0\n",
    "    j = len(nums)-1\n",
    "    \n",
    "    while i <= j:\n",
    "        if nums[i]**2 < nums[j]**2:\n",
    "            num.insert(0,nums[j]**2)\n",
    "            j -= 1\n",
    "        elif nums[i]**2 > nums[j]**2:\n",
    "            num.insert(0, nums[i]**2)\n",
    "            i += 1\n",
    "        elif nums[i]**2 == nums[j]**2 and i != j:\n",
    "            num.insert(0,nums[i]**2)\n",
    "            num.insert(0,nums[j]**2)\n",
    "            i += 1\n",
    "            j -= 1\n",
    "        elif i == j:\n",
    "            num.insert(0, nums[i]**2)\n",
    "            break\n",
    "            \n",
    "    return num\n",
    "    \n",
    "nums = [-4,-1,0,3,10]    \n",
    "print(squareNumber(nums))"
   ]
  },
  {
   "cell_type": "markdown",
   "id": "ce2ad906",
   "metadata": {},
   "source": [
    "**Question 7**\n",
    "You are given an m x n matrix M initialized with all 0's and an array of operations ops, where ops[i] = [ai, bi] means M[x][y] should be incremented by one for all 0 <= x < ai and 0 <= y < bi.\n",
    "\n",
    "Count and return *the number of maximum integers in the matrix after performing all the operations*\n",
    "\n",
    "**Example 1:**\n",
    "\n",
    "![q4.jpg](https://s3-us-west-2.amazonaws.com/secure.notion-static.com/4d0890d0-7bc7-4f59-be8e-352d9f3c1c52/q4.jpg)\n",
    "\n",
    "**Input:** m = 3, n = 3, ops = [[2,2],[3,3]]\n",
    "\n",
    "**Output:** 4\n",
    "\n",
    "**Explanation:** The maximum integer in M is 2, and there are four of it in M. So return 4."
   ]
  },
  {
   "cell_type": "code",
   "execution_count": 4,
   "id": "8c1b646e",
   "metadata": {},
   "outputs": [
    {
     "name": "stdout",
     "output_type": "stream",
     "text": [
      "4\n"
     ]
    }
   ],
   "source": [
    "def maxMatrix(m, n, ops):\n",
    "    \n",
    "    if len(ops) == 0:\n",
    "        return m*n\n",
    "\n",
    "    M = [[0 for _ in range(m)]for _ in range(n)]\n",
    "    for op in ops:\n",
    "        for i in range(op[0]):\n",
    "            for j in range(op[1]):\n",
    "                M[i][j] += 1\n",
    "    m = 0\n",
    "    c = 0\n",
    "    for i in range(len(M)):\n",
    "        if max(M[i]) > m:\n",
    "            m = max(M[i])\n",
    "            c = M[i].count(m)\n",
    "        elif max(M[i]) == m:\n",
    "            l = M[i].count(max(M[i]))\n",
    "            c = c+l\n",
    "    return c\n",
    "\n",
    "m = 3\n",
    "n = 3\n",
    "ops = [[2,2],[3,3]]\n",
    "print(maxMatrix(m, n , ops))"
   ]
  },
  {
   "cell_type": "markdown",
   "id": "b133e115",
   "metadata": {},
   "source": [
    "**Question 8**\n",
    "\n",
    "Given the array nums consisting of 2n elements in the form [x1,x2,...,xn,y1,y2,...,yn].\n",
    "\n",
    "*Return the array in the form* [x1,y1,x2,y2,...,xn,yn].\n",
    "\n",
    "**Example 1:**\n",
    "\n",
    "**Input:** nums = [2,5,1,3,4,7], n = 3\n",
    "\n",
    "**Output:** [2,3,5,4,1,7]\n",
    "\n",
    "**Explanation:** Since x1=2, x2=5, x3=1, y1=3, y2=4, y3=7 then the answer is [2,3,5,4,1,7]."
   ]
  },
  {
   "cell_type": "code",
   "execution_count": 5,
   "id": "505dc6fc",
   "metadata": {},
   "outputs": [
    {
     "name": "stdout",
     "output_type": "stream",
     "text": [
      "[2, 3, 5, 4, 1, 7]\n"
     ]
    }
   ],
   "source": [
    "def returnArray(nums, n):\n",
    "    i = 0\n",
    "    j = n\n",
    "    num = []\n",
    "    while i < n and j < len(nums):\n",
    "        num.append(nums[i])\n",
    "        num.append(nums[j])\n",
    "        i += 1\n",
    "        j += 1\n",
    "    return num\n",
    "\n",
    "nums = [2,5,1,3,4,7]\n",
    "n = 3\n",
    "print(returnArray(nums, n))"
   ]
  },
  {
   "cell_type": "code",
   "execution_count": null,
   "id": "ef262e81",
   "metadata": {},
   "outputs": [],
   "source": []
  }
 ],
 "metadata": {
  "kernelspec": {
   "display_name": "Python 3 (ipykernel)",
   "language": "python",
   "name": "python3"
  },
  "language_info": {
   "codemirror_mode": {
    "name": "ipython",
    "version": 3
   },
   "file_extension": ".py",
   "mimetype": "text/x-python",
   "name": "python",
   "nbconvert_exporter": "python",
   "pygments_lexer": "ipython3",
   "version": "3.7.4"
  }
 },
 "nbformat": 4,
 "nbformat_minor": 5
}
