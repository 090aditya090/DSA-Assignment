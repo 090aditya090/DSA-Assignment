{
 "cells": [
  {
   "cell_type": "markdown",
   "id": "d6b6e37a",
   "metadata": {},
   "source": [
    "**1.** Setting up a Kafka Producer:"
   ]
  },
  {
   "cell_type": "raw",
   "id": "9e531081",
   "metadata": {},
   "source": [
    "a) Write a Python program to create a Kafka producer."
   ]
  },
  {
   "cell_type": "code",
   "execution_count": null,
   "id": "18ad2d7c",
   "metadata": {},
   "outputs": [],
   "source": [
    "from kafka import KafkaProducer\n",
    "\n",
    "def create_kafka_producer(bootstrap_servers):\n",
    "    producer = KafkaProducer(bootstrap_servers=bootstrap_servers)\n",
    "    return producer\n",
    "\n",
    "# Example usage\n",
    "producer = create_kafka_producer('localhost:9092')"
   ]
  },
  {
   "cell_type": "raw",
   "id": "86bc1f4d",
   "metadata": {},
   "source": [
    "b) Configure the producer to connect to a Kafka cluster."
   ]
  },
  {
   "cell_type": "code",
   "execution_count": null,
   "id": "57aebedc",
   "metadata": {},
   "outputs": [],
   "source": [
    "from kafka import KafkaProducer\n",
    "\n",
    "def create_kafka_producer(bootstrap_servers):\n",
    "    producer = KafkaProducer(bootstrap_servers=bootstrap_servers)\n",
    "    return producer\n",
    "\n",
    "# Example usage\n",
    "producer = create_kafka_producer('localhost:9092')"
   ]
  },
  {
   "cell_type": "raw",
   "id": "dac8c5a3",
   "metadata": {},
   "source": [
    "c) Implement logic to send messages to a Kafka topic."
   ]
  },
  {
   "cell_type": "code",
   "execution_count": null,
   "id": "570aa489",
   "metadata": {},
   "outputs": [],
   "source": [
    "def send_message(producer, topic, message):\n",
    "    producer.send(topic, message.encode('utf-8'))\n",
    "\n",
    "# Example usage\n",
    "send_message(producer, 'test_topic', 'Hello, Kafka!')"
   ]
  },
  {
   "cell_type": "markdown",
   "id": "2492c803",
   "metadata": {},
   "source": [
    "**2.** Setting up a Kafka Consumer:"
   ]
  },
  {
   "cell_type": "raw",
   "id": "f9f1b189",
   "metadata": {},
   "source": [
    "a) Write a Python program to create a Kafka consumer."
   ]
  },
  {
   "cell_type": "code",
   "execution_count": null,
   "id": "620bc41e",
   "metadata": {},
   "outputs": [],
   "source": [
    "from kafka import KafkaConsumer\n",
    "\n",
    "def create_kafka_consumer(bootstrap_servers, group_id, topic):\n",
    "    consumer = KafkaConsumer(topic,\n",
    "                             group_id=group_id,\n",
    "                             bootstrap_servers=bootstrap_servers,\n",
    "                             auto_offset_reset='earliest')\n",
    "    return consumer\n",
    "\n",
    "# Example usage\n",
    "consumer = create_kafka_consumer('localhost:9092', 'my_consumer_group', 'test_topic')"
   ]
  },
  {
   "cell_type": "raw",
   "id": "0abb61f5",
   "metadata": {},
   "source": [
    "b) Configure the consumer to connect to a Kafka cluster."
   ]
  },
  {
   "cell_type": "raw",
   "id": "ecbd55e7",
   "metadata": {},
   "source": [
    "For the example above, the consumer is configured to connect to a Kafka cluster running on localhost and port 9092, and it is part of the consumer group named 'my_consumer_group'."
   ]
  },
  {
   "cell_type": "raw",
   "id": "e89b0677",
   "metadata": {},
   "source": [
    "c) Implement logic to consume messages from a Kafka topic."
   ]
  },
  {
   "cell_type": "code",
   "execution_count": null,
   "id": "04a9a479",
   "metadata": {},
   "outputs": [],
   "source": [
    "def consume_messages(consumer):\n",
    "    for message in consumer:\n",
    "        print(message.value.decode('utf-8'))\n",
    "\n",
    "# Example usage\n",
    "consume_messages(consumer)"
   ]
  },
  {
   "cell_type": "markdown",
   "id": "0c6b7c2f",
   "metadata": {},
   "source": [
    "**3.** Creating and Managing Kafka Topics:"
   ]
  },
  {
   "cell_type": "raw",
   "id": "415b5aa6",
   "metadata": {},
   "source": [
    "a) Write a Python program to create a new Kafka topic."
   ]
  },
  {
   "cell_type": "code",
   "execution_count": null,
   "id": "ae083eb9",
   "metadata": {},
   "outputs": [],
   "source": [
    "from kafka.admin import KafkaAdminClient, NewTopic\n",
    "\n",
    "def create_kafka_topic(bootstrap_servers, topic_name, partitions=1, replication_factor=1):\n",
    "    admin_client = KafkaAdminClient(bootstrap_servers=bootstrap_servers)\n",
    "    topic = NewTopic(name=topic_name,\n",
    "                     num_partitions=partitions,\n",
    "                     replication_factor=replication_factor)\n",
    "    admin_client.create_topics([topic])\n",
    "\n",
    "# Example usage\n",
    "create_kafka_topic('localhost:9092', 'new_topic', partitions=3, replication_factor=1)"
   ]
  },
  {
   "cell_type": "raw",
   "id": "54687030",
   "metadata": {},
   "source": [
    "b) Implement functionality to list existing topics."
   ]
  },
  {
   "cell_type": "code",
   "execution_count": null,
   "id": "67f577bc",
   "metadata": {},
   "outputs": [],
   "source": [
    "def list_kafka_topics(bootstrap_servers):\n",
    "    admin_client = KafkaAdminClient(bootstrap_servers=bootstrap_servers)\n",
    "    topic_metadata = admin_client.list_topics()\n",
    "    topic_names = topic_metadata.topics\n",
    "    return topic_names\n",
    "\n",
    "# Example usage\n",
    "topics = list_kafka_topics('localhost:9092')\n",
    "print(\"Existing topics:\", topics)"
   ]
  },
  {
   "cell_type": "raw",
   "id": "963be910",
   "metadata": {},
   "source": [
    "c) Develop logic to delete an existing Kafka topic."
   ]
  },
  {
   "cell_type": "code",
   "execution_count": null,
   "id": "508ab6dd",
   "metadata": {},
   "outputs": [],
   "source": [
    "def delete_kafka_topic(bootstrap_servers, topic_name):\n",
    "    admin_client = KafkaAdminClient(bootstrap_servers=bootstrap_servers)\n",
    "    admin_client.delete_topics([topic_name])\n",
    "\n",
    "# Example usage\n",
    "delete_kafka_topic('localhost:9092', 'old_topic')"
   ]
  },
  {
   "cell_type": "markdown",
   "id": "57bd18f4",
   "metadata": {},
   "source": [
    "**4.** Producing and Consuming Messages:"
   ]
  },
  {
   "cell_type": "raw",
   "id": "942248f4",
   "metadata": {},
   "source": [
    "a) Write a Python program to produce messages to a Kafka topic."
   ]
  },
  {
   "cell_type": "code",
   "execution_count": null,
   "id": "e83b5e86",
   "metadata": {},
   "outputs": [],
   "source": [
    "def send_message(producer, topic, message):\n",
    "    producer.send(topic, message.encode('utf-8'))\n",
    "\n",
    "# Example usage\n",
    "send_message(producer, 'test_topic', 'Hello, Kafka!')"
   ]
  },
  {
   "cell_type": "raw",
   "id": "50e65388",
   "metadata": {},
   "source": [
    "b) Implement logic to consume messages from the same Kafka topic."
   ]
  },
  {
   "cell_type": "code",
   "execution_count": null,
   "id": "a8ef0ab9",
   "metadata": {},
   "outputs": [],
   "source": [
    "def consume_messages(consumer):\n",
    "    for message in consumer:\n",
    "        print(message.value.decode('utf-8'))\n",
    "\n",
    "# Example usage\n",
    "consume_messages(consumer)"
   ]
  },
  {
   "cell_type": "raw",
   "id": "b204159d",
   "metadata": {},
   "source": [
    "c) Test the end-to-end flow of message production and consumption"
   ]
  },
  {
   "cell_type": "raw",
   "id": "aa96df8e",
   "metadata": {},
   "source": [
    "You can test the end-to-end flow by running the producer to send messages and then running the consumer to consume those messages from the same topic."
   ]
  },
  {
   "cell_type": "markdown",
   "id": "26ac1374",
   "metadata": {},
   "source": [
    "**5.** Working with Kafka Consumer Groups:"
   ]
  },
  {
   "cell_type": "markdown",
   "id": "717948bd",
   "metadata": {},
   "source": [
    "a) Write a Python program to create a Kafka consumer within a consumer group."
   ]
  },
  {
   "cell_type": "code",
   "execution_count": null,
   "id": "4cfcc427",
   "metadata": {},
   "outputs": [],
   "source": [
    "from kafka import KafkaConsumer\n",
    "\n",
    "def create_kafka_consumer(bootstrap_servers, group_id, topic):\n",
    "    consumer = KafkaConsumer(topic,\n",
    "                             group_id=group_id,\n",
    "                             bootstrap_servers=bootstrap_servers,\n",
    "                             auto_offset_reset='earliest')\n",
    "    return consumer\n",
    "\n",
    "# Example usage\n",
    "consumer = create_kafka_consumer('localhost:9092', 'my_consumer_group', 'test_topic')"
   ]
  },
  {
   "cell_type": "raw",
   "id": "2088ce99",
   "metadata": {},
   "source": [
    "b) Implement logic to handle messages consumed by different consumers within the same\n",
    "group."
   ]
  },
  {
   "cell_type": "raw",
   "id": "e8ff3962",
   "metadata": {},
   "source": [
    "This logic can be implemented within the consume_messages function mentioned earlier."
   ]
  },
  {
   "cell_type": "raw",
   "id": "3afd2ca3",
   "metadata": {},
   "source": [
    "c) Observe the behavior of consumer group rebalancing when adding or removing\n",
    "consumers."
   ]
  },
  {
   "cell_type": "raw",
   "id": "062fb040",
   "metadata": {},
   "source": [
    "When you add or remove consumers within the same consumer group, Kafka automatically triggers a rebalancing process to distribute the partitions among the available consumers. The consumers will be assigned different partitions to consume from based on the rebalancing algorithm. You can observe this behavior by starting multiple consumers in the same group and monitoring the log output or consumer assignment."
   ]
  },
  {
   "cell_type": "code",
   "execution_count": null,
   "id": "9974a0d2",
   "metadata": {},
   "outputs": [],
   "source": []
  }
 ],
 "metadata": {
  "kernelspec": {
   "display_name": "Python 3 (ipykernel)",
   "language": "python",
   "name": "python3"
  },
  "language_info": {
   "codemirror_mode": {
    "name": "ipython",
    "version": 3
   },
   "file_extension": ".py",
   "mimetype": "text/x-python",
   "name": "python",
   "nbconvert_exporter": "python",
   "pygments_lexer": "ipython3",
   "version": "3.7.4"
  }
 },
 "nbformat": 4,
 "nbformat_minor": 5
}
