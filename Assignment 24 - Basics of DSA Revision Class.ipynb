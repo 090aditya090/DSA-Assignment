{
 "cells": [
  {
   "cell_type": "markdown",
   "id": "aa3c3f7e",
   "metadata": {},
   "source": [
    "**💡 1. Roman to Integer**\n",
    "\n",
    "Roman numerals are represented by seven different symbols: I, V, X, L, C, D and M.\n",
    "\n",
    "SymbolValue\n",
    "I             1\n",
    "V             5\n",
    "X             10\n",
    "L             50\n",
    "C             100\n",
    "D             500\n",
    "M             1000\n",
    "\n",
    "For example, `2` is written as `II` in Roman numeral, just two ones added together. `12` is written as `XII`, which is simply `X + II`. The number `27` is written as `XXVII`, which is `XX + V + II`.\n",
    "\n",
    "Roman numerals are usually written largest to smallest from left to right. However, the numeral for four is not `IIII`. Instead, the number four is written as `IV`. Because the one is before the five we subtract it making four. The same principle applies to the number nine, which is written as `IX`. There are six instances where subtraction is used:\n",
    "\n",
    "- `I` can be placed before `V` (5) and `X` (10) to make 4 and 9.\n",
    "- `X` can be placed before `L` (50) and `C` (100) to make 40 and 90.\n",
    "- `C` can be placed before `D` (500) and `M` (1000) to make 400 and 900.\n",
    "\n",
    "Given a roman numeral, convert it to an integer."
   ]
  },
  {
   "cell_type": "code",
   "execution_count": 1,
   "id": "330ede37",
   "metadata": {},
   "outputs": [
    {
     "name": "stdout",
     "output_type": "stream",
     "text": [
      "27\n"
     ]
    }
   ],
   "source": [
    "def roman_to_integer(s):\n",
    "    roman_values = {\n",
    "        'I': 1,\n",
    "        'V': 5,\n",
    "        'X': 10,\n",
    "        'L': 50,\n",
    "        'C': 100,\n",
    "        'D': 500,\n",
    "        'M': 1000\n",
    "    }\n",
    "    total = 0\n",
    "    prev_value = 0\n",
    "\n",
    "    for symbol in reversed(s):\n",
    "        value = roman_values[symbol]\n",
    "        if value < prev_value:\n",
    "            total -= value\n",
    "        else:\n",
    "            total += value\n",
    "        prev_value = value\n",
    "\n",
    "    return total\n",
    "\n",
    "# Example usage\n",
    "roman_numeral = \"XXVII\"\n",
    "integer_value = roman_to_integer(roman_numeral)\n",
    "print(integer_value)"
   ]
  },
  {
   "cell_type": "markdown",
   "id": "603349e1",
   "metadata": {},
   "source": [
    "**💡 2. Longest Substring Without Repeating Characters**\n",
    "\n",
    "Given a string `s`, find the length of the **longest substring** without repeating characters.\n",
    "\n",
    "**Example 1:**\n",
    "\n",
    "Input: s = \"abcabcbb\"\n",
    "\n",
    "Output: 3\n",
    "Explanation: The answer is \"abc\", with the length of 3."
   ]
  },
  {
   "cell_type": "code",
   "execution_count": 2,
   "id": "8e5232de",
   "metadata": {},
   "outputs": [
    {
     "name": "stdout",
     "output_type": "stream",
     "text": [
      "3\n"
     ]
    }
   ],
   "source": [
    "def length_of_longest_substring(s):\n",
    "    # Initialize variables\n",
    "    max_length = 0\n",
    "    start = 0\n",
    "    char_map = {}\n",
    "\n",
    "    for end in range(len(s)):\n",
    "        if s[end] in char_map:\n",
    "            start = max(start, char_map[s[end]] + 1)\n",
    "        \n",
    "        char_map[s[end]] = end\n",
    "        \n",
    "        max_length = max(max_length, end - start + 1)\n",
    "\n",
    "    return max_length\n",
    "\n",
    "# Example usage\n",
    "s = \"abcabcbb\"\n",
    "result = length_of_longest_substring(s)\n",
    "print(result)"
   ]
  },
  {
   "cell_type": "markdown",
   "id": "90b6f45d",
   "metadata": {},
   "source": [
    "**💡 3. Majority Element**\n",
    "\n",
    "Given an array `nums` of size `n`, return *the majority element*.\n",
    "\n",
    "The majority element is the element that appears more than `⌊n / 2⌋` times. You may assume that the majority element always exists in the array.\n",
    "\n",
    "**Example 1:**\n",
    "\n",
    "Input: nums = [3,2,3]\n",
    "\n",
    "Output: 3"
   ]
  },
  {
   "cell_type": "code",
   "execution_count": 3,
   "id": "0159b537",
   "metadata": {},
   "outputs": [
    {
     "name": "stdout",
     "output_type": "stream",
     "text": [
      "3\n"
     ]
    }
   ],
   "source": [
    "def majority_element(nums):\n",
    "    count = 0\n",
    "    candidate = None\n",
    "\n",
    "    for num in nums:\n",
    "        if count == 0:\n",
    "            candidate = num\n",
    "\n",
    "        count += 1 if num == candidate else -1\n",
    "\n",
    "    return candidate\n",
    "\n",
    "# Example usage\n",
    "nums = [3, 2, 3]\n",
    "result = majority_element(nums)\n",
    "print(result)"
   ]
  },
  {
   "cell_type": "markdown",
   "id": "1f65b35f",
   "metadata": {},
   "source": [
    "**💡 4. Group Anagram**\n",
    "\n",
    "Given an array of strings `strs`, group **the anagrams** together. You can return the answer in **any order**.\n",
    "\n",
    "An **Anagram** is a word or phrase formed by rearranging the letters of a different word or phrase, typically using all the original letters exactly once.\n",
    "\n",
    "**Example 1:**\n",
    "\n",
    "Input: strs = [\"eat\",\"tea\",\"tan\",\"ate\",\"nat\",\"bat\"]\n",
    "\n",
    "Output: [[\"bat\"],[\"nat\",\"tan\"],[\"ate\",\"eat\",\"tea\"]]"
   ]
  },
  {
   "cell_type": "code",
   "execution_count": 4,
   "id": "0413410f",
   "metadata": {},
   "outputs": [
    {
     "name": "stdout",
     "output_type": "stream",
     "text": [
      "[['eat', 'tea', 'ate'], ['tan', 'nat'], ['bat']]\n"
     ]
    }
   ],
   "source": [
    "def group_anagrams(strs):\n",
    "    groups = {}\n",
    "\n",
    "    for word in strs:\n",
    "        sorted_word = ''.join(sorted(word))\n",
    "        if sorted_word not in groups:\n",
    "            groups[sorted_word] = []\n",
    "        groups[sorted_word].append(word)\n",
    "\n",
    "    return list(groups.values())\n",
    "\n",
    "# Example usage\n",
    "strs = [\"eat\", \"tea\", \"tan\", \"ate\", \"nat\", \"bat\"]\n",
    "result = group_anagrams(strs)\n",
    "print(result)  "
   ]
  },
  {
   "cell_type": "markdown",
   "id": "369f6b67",
   "metadata": {},
   "source": [
    "**💡 5. Ugly Numbers**\n",
    "\n",
    "An **ugly number** is a positive integer whose prime factors are limited to `2`, `3`, and `5`.\n",
    "\n",
    "Given an integer `n`, return *the* `nth` ***ugly number***.\n",
    "\n",
    "**Example 1:**\n",
    "\n",
    "Input: n = 10\n",
    "\n",
    "Output: 12\n",
    "\n",
    "Explanation: [1, 2, 3, 4, 5, 6, 8, 9, 10, 12] is the sequence of the first 10 ugly numbers."
   ]
  },
  {
   "cell_type": "code",
   "execution_count": 5,
   "id": "10610c35",
   "metadata": {},
   "outputs": [
    {
     "name": "stdout",
     "output_type": "stream",
     "text": [
      "12\n"
     ]
    }
   ],
   "source": [
    "def nth_ugly_number(n):\n",
    "    ugly_numbers = [1]\n",
    "    factor_2 = factor_3 = factor_5 = 0\n",
    "\n",
    "    for _ in range(1, n):\n",
    "        next_ugly_number = min(ugly_numbers[factor_2] * 2, ugly_numbers[factor_3] * 3, ugly_numbers[factor_5] * 5)\n",
    "        ugly_numbers.append(next_ugly_number)\n",
    "\n",
    "        if next_ugly_number == ugly_numbers[factor_2] * 2:\n",
    "            factor_2 += 1\n",
    "        if next_ugly_number == ugly_numbers[factor_3] * 3:\n",
    "            factor_3 += 1\n",
    "        if next_ugly_number == ugly_numbers[factor_5] * 5:\n",
    "            factor_5 += 1\n",
    "\n",
    "    return ugly_numbers[n - 1]\n",
    "\n",
    "# Example usage\n",
    "n = 10\n",
    "result = nth_ugly_number(n)\n",
    "print(result)"
   ]
  },
  {
   "cell_type": "markdown",
   "id": "3a48c472",
   "metadata": {},
   "source": [
    "**💡 6. Top K Frequent Words**\n",
    "\n",
    "Given an array of strings `words` and an integer `k`, return *the* `k` *most frequent strings*.\n",
    "\n",
    "Return the answer **sorted** by **the frequency** from highest to lowest. Sort the words with the same frequency by their **lexicographical order**.\n",
    "\n",
    "**Example 1:**\n",
    "\n",
    "Input: words = [\"i\",\"love\",\"leetcode\",\"i\",\"love\",\"coding\"], k = 2\n",
    "\n",
    "Output: [\"i\",\"love\"]\n",
    "\n",
    "Explanation: \"i\" and \"love\" are the two most frequent words.\n",
    "\n",
    "Note that \"i\" comes before \"love\" due to a lower alphabetical order."
   ]
  },
  {
   "cell_type": "code",
   "execution_count": 6,
   "id": "c7bf2fcd",
   "metadata": {},
   "outputs": [
    {
     "name": "stdout",
     "output_type": "stream",
     "text": [
      "['i', 'love']\n"
     ]
    }
   ],
   "source": [
    "import collections\n",
    "\n",
    "def top_k_frequent_words(words, k):\n",
    "    word_count = collections.Counter(words)\n",
    "\n",
    "    sorted_words = sorted(word_count.keys(), key=lambda word: (-word_count[word], word))\n",
    "\n",
    "    return sorted_words[:k]\n",
    "\n",
    "# Example usage\n",
    "words = [\"i\", \"love\", \"leetcode\", \"i\", \"love\", \"coding\"]\n",
    "k = 2\n",
    "result = top_k_frequent_words(words, k)\n",
    "print(result)"
   ]
  },
  {
   "cell_type": "markdown",
   "id": "1bd32363",
   "metadata": {},
   "source": [
    "**💡 7. Sliding Window Maximum**\n",
    "\n",
    "You are given an array of integers `nums`, there is a sliding window of size `k` which is moving from the very left of the array to the very right. You can only see the `k` numbers in the window. Each time the sliding window moves right by one position.\n",
    "\n",
    "Return *the max sliding window*.\n",
    "\n",
    "Example 1:\n",
    "\n",
    "Input: nums = [1,3,-1,-3,5,3,6,7], k = 3\n",
    "    \n",
    "Output: [3,3,5,5,6,7]\n",
    "    \n",
    "Explanation:\n",
    "    \n",
    "Window position                Max\n",
    "---------------               -----\n",
    "[1  3  -1] -3  5  3  6 7         3\n",
    " 1 [3  -1  -3] 5  3  6 7         3\n",
    " 1  3 [-1  -3  5] 3  6 7         5\n",
    " 1  3  -1 [-3  5  3] 6 7         5\n",
    " 1  3  -1  -3 [5  3  6]7         6\n",
    " 1  3  -1  -3  5 [3  6  7]       7"
   ]
  },
  {
   "cell_type": "code",
   "execution_count": 8,
   "id": "cdaf2c53",
   "metadata": {},
   "outputs": [
    {
     "name": "stdout",
     "output_type": "stream",
     "text": [
      "[3, 3, 5, 5, 6, 7]\n"
     ]
    }
   ],
   "source": [
    "from collections import deque\n",
    "\n",
    "def max_sliding_window(nums, k):\n",
    "    result = []\n",
    "    window = deque()\n",
    "\n",
    "    for i in range(k):\n",
    "        while window and nums[i] >= nums[window[-1]]:\n",
    "            window.pop()\n",
    "\n",
    "        window.append(i)\n",
    "\n",
    "    for i in range(k, len(nums)):\n",
    "        result.append(nums[window[0]])\n",
    "\n",
    "        while window and window[0] <= i - k:\n",
    "            window.popleft()\n",
    "\n",
    "        while window and nums[i] >= nums[window[-1]]:\n",
    "            window.pop()\n",
    "\n",
    "        window.append(i)\n",
    "\n",
    "    result.append(nums[window[0]])\n",
    "\n",
    "    return result\n",
    "\n",
    "# Example usage\n",
    "nums = [1, 3, -1, -3, 5, 3, 6, 7]\n",
    "k = 3\n",
    "result = max_sliding_window(nums, k)\n",
    "print(result) "
   ]
  },
  {
   "cell_type": "markdown",
   "id": "c8236dfe",
   "metadata": {},
   "source": [
    "**💡 8. Find K Closest Elements**\n",
    "\n",
    "Given a **sorted** integer array `arr`, two integers `k` and `x`, return the `k` closest integers to `x` in the array. The result should also be sorted in ascending order.\n",
    "\n",
    "An integer `a` is closer to `x` than an integer `b` if:\n",
    "\n",
    "- `|a - x| < |b - x|`, or\n",
    "- `|a - x| == |b - x|` and `a < b`\n",
    "\n",
    "**Example 1:**\n",
    "\n",
    "Input: arr = [1,2,3,4,5], k = 4, x = 3\n",
    "    \n",
    "Output: [1,2,3,4]"
   ]
  },
  {
   "cell_type": "code",
   "execution_count": 9,
   "id": "25159b70",
   "metadata": {},
   "outputs": [
    {
     "name": "stdout",
     "output_type": "stream",
     "text": [
      "[1, 2, 3, 4]\n"
     ]
    }
   ],
   "source": [
    "def find_closest_elements(arr, k, x):\n",
    "    left = 0\n",
    "    right = len(arr) - 1\n",
    "\n",
    "    while right - left >= k:\n",
    "        if abs(arr[left] - x) > abs(arr[right] - x):\n",
    "            left += 1\n",
    "        else:\n",
    "            right -= 1\n",
    "\n",
    "    return sorted(arr[left:right+1])\n",
    "\n",
    "arr = [1, 2, 3, 4, 5]\n",
    "k = 4\n",
    "x = 3\n",
    "result = find_closest_elements(arr, k, x)\n",
    "print(result) \n"
   ]
  },
  {
   "cell_type": "code",
   "execution_count": null,
   "id": "5d783365",
   "metadata": {},
   "outputs": [],
   "source": []
  }
 ],
 "metadata": {
  "kernelspec": {
   "display_name": "Python 3 (ipykernel)",
   "language": "python",
   "name": "python3"
  },
  "language_info": {
   "codemirror_mode": {
    "name": "ipython",
    "version": 3
   },
   "file_extension": ".py",
   "mimetype": "text/x-python",
   "name": "python",
   "nbconvert_exporter": "python",
   "pygments_lexer": "ipython3",
   "version": "3.7.4"
  }
 },
 "nbformat": 4,
 "nbformat_minor": 5
}
