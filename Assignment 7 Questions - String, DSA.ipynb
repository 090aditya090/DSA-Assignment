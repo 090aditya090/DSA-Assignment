{
 "cells": [
  {
   "cell_type": "markdown",
   "id": "2dbf94e0",
   "metadata": {},
   "source": [
    "💡 **Question 1**\n",
    "\n",
    "Given two strings s and t, *determine if they are isomorphic*.\n",
    "\n",
    "Two strings s and t are isomorphic if the characters in s can be replaced to get t.\n",
    "\n",
    "All occurrences of a character must be replaced with another character while preserving the order of characters. No two characters may map to the same character, but a character may map to itself.\n",
    "\n",
    "**Example 1:**\n",
    "\n",
    "**Input:** s = \"egg\", t = \"add\"\n",
    "\n",
    "**Output:** true"
   ]
  },
  {
   "cell_type": "code",
   "execution_count": 6,
   "id": "7b1bd7e3",
   "metadata": {},
   "outputs": [
    {
     "name": "stdout",
     "output_type": "stream",
     "text": [
      "True\n"
     ]
    }
   ],
   "source": [
    "def isomorphic(s, t):\n",
    "    \n",
    "    hash_map = {}\n",
    "    for i in range(len(s)):\n",
    "        hash_map[s[i]] = t[i]\n",
    "        \n",
    "    for j in range(len(t)):\n",
    "        if t[j] != hash_map[s[j]]:\n",
    "            return False\n",
    "    return True\n",
    "\n",
    "s = \"egg\" \n",
    "t = \"add\"\n",
    "if len(set(s)) <= len(set(t)):\n",
    "    print(isomorphic(s,t))\n",
    "else:\n",
    "    print(isomorphic(t, s))"
   ]
  },
  {
   "cell_type": "markdown",
   "id": "4f190a40",
   "metadata": {},
   "source": [
    "💡 **Question 2**\n",
    "\n",
    "Given a string num which represents an integer, return true *if* num *is a **strobogrammatic number***.\n",
    "\n",
    "A **strobogrammatic number** is a number that looks the same when rotated 180 degrees (looked at upside down).\n",
    "\n",
    "**Example 1:**\n",
    "\n",
    "**Input:** num = \"69\"\n",
    "\n",
    "**Output:**\n",
    "\n",
    "true"
   ]
  },
  {
   "cell_type": "code",
   "execution_count": null,
   "id": "7563c70f",
   "metadata": {},
   "outputs": [],
   "source": [
    "def strobogrammatic(num):\n",
    "    strobogrammatic = [0,1,6,8,9]\n",
    "    \n",
    "    for i in num:\n",
    "        if int(i) in strobogrammatic:\n",
    "            pass\n",
    "        else:\n",
    "            return False\n",
    "    return True\n",
    "    \n",
    "num = \"69\"\n",
    "print(strobogrammatic(num))"
   ]
  },
  {
   "cell_type": "markdown",
   "id": "58107146",
   "metadata": {},
   "source": [
    "💡 **Question 3**\n",
    "\n",
    "Given two non-negative integers, num1 and num2 represented as string, return *the sum of* num1 *and* num2 *as a string*.\n",
    "\n",
    "You must solve the problem without using any built-in library for handling large integers (such as BigInteger). You must also not convert the inputs to integers directly.\n",
    "\n",
    "**Example 1:**\n",
    "\n",
    "**Input:** num1 = \"11\", num2 = \"123\"\n",
    "\n",
    "**Output:**\n",
    "\n",
    "\"134\""
   ]
  },
  {
   "cell_type": "code",
   "execution_count": 1,
   "id": "b0dd78d6",
   "metadata": {},
   "outputs": [
    {
     "name": "stdout",
     "output_type": "stream",
     "text": [
      "134\n"
     ]
    }
   ],
   "source": [
    "def sumOfString(num1, num2):\n",
    "    \n",
    "    def strtoint(num):\n",
    "        numDict = {'0' : 0, '1' : 1, '2' : 2, '3' : 3, '4' : 4, '5' : 5,'6' : 6, '7' : 7, '8' : 8, '9' : 9}\n",
    "        output = 0\n",
    "        for d in num:\n",
    "            output = output * 10 + numDict[d]\n",
    "        return output\n",
    "        \n",
    "    return str(strtoint(num1) + strtoint(num2))\n",
    "               \n",
    "num1 = \"11\"\n",
    "num2 = \"123\"\n",
    "print(sumOfString(num1, num2))"
   ]
  },
  {
   "cell_type": "markdown",
   "id": "503c67d4",
   "metadata": {},
   "source": [
    "💡 **Question 4**\n",
    "\n",
    "Given a string s, reverse the order of characters in each word within a sentence while still preserving whitespace and initial word order.\n",
    "\n",
    "**Example 1:**\n",
    "\n",
    "**Input:** s = \"Let's take LeetCode contest\"\n",
    "\n",
    "**Output:** \"s'teL ekat edoCteeL tsetnoc\""
   ]
  },
  {
   "cell_type": "code",
   "execution_count": 2,
   "id": "8a725d23",
   "metadata": {},
   "outputs": [
    {
     "name": "stdout",
     "output_type": "stream",
     "text": [
      "s'teL ekat edoCteeL tsetnoc\n"
     ]
    }
   ],
   "source": [
    "s = \"Let's take LeetCode contest\"\n",
    "s.strip()\n",
    "s = s+' '\n",
    "result = ''\n",
    "word = ''\n",
    "for i in s:\n",
    "    if i != ' ':\n",
    "        word = i+word\n",
    "    elif i == ' ':\n",
    "        result = result+word+' '\n",
    "        word = ''\n",
    "        \n",
    "print(result.strip())"
   ]
  },
  {
   "cell_type": "markdown",
   "id": "f6f2d303",
   "metadata": {},
   "source": [
    "💡 **Question 5**\n",
    "\n",
    "Given a string s and an integer k, reverse the first k characters for every 2k characters counting from the start of the string.\n",
    "\n",
    "If there are fewer than k characters left, reverse all of them. If there are less than 2k but greater than or equal to k characters, then reverse the first k characters and leave the other as original.\n",
    "\n",
    "**Example 1:**\n",
    "\n",
    "**Input:** s = \"abcdefg\", k = 2\n",
    "\n",
    "**Output:**\n",
    "\n",
    "\"bacdfeg\""
   ]
  },
  {
   "cell_type": "code",
   "execution_count": 7,
   "id": "f728de34",
   "metadata": {},
   "outputs": [
    {
     "name": "stdout",
     "output_type": "stream",
     "text": [
      "bacdfeg\n"
     ]
    }
   ],
   "source": [
    "def reverseStr(s, k):\n",
    "    res = \"\"\n",
    "\n",
    "    for i in range(0, len(s), 2*k):\n",
    "\n",
    "        res += s[i:i+(2*k)][:k][::-1] + s[i:i+(2*k)][k:]\n",
    "\n",
    "    return res\n",
    "\n",
    "s = \"abcdefg\"\n",
    "k = 2\n",
    "print(reverseStr(s, k))"
   ]
  },
  {
   "cell_type": "markdown",
   "id": "b70c48cc",
   "metadata": {},
   "source": [
    "💡 **Question 6**\n",
    "\n",
    "Given two strings s and goal, return true *if and only if* s *can become* goal *after some number of **shifts** on* s.\n",
    "\n",
    "A **shift** on s consists of moving the leftmost character of s to the rightmost position.\n",
    "\n",
    "- For example, if s = \"abcde\", then it will be \"bcdea\" after one shift.\n",
    "\n",
    "**Example 1:**\n",
    "\n",
    "**Input:** s = \"abcde\", goal = \"cdeab\"\n",
    "\n",
    "**Output:**\n",
    "\n",
    "true"
   ]
  },
  {
   "cell_type": "code",
   "execution_count": 4,
   "id": "7749d9ea",
   "metadata": {},
   "outputs": [
    {
     "name": "stdout",
     "output_type": "stream",
     "text": [
      "True\n",
      "False\n"
     ]
    }
   ],
   "source": [
    "s = 'abcde'\n",
    "goal = 'cdeab'\n",
    "arrow = list(s)\n",
    "target = list(goal)\n",
    "i = 0\n",
    "while i < len(target):\n",
    "    if arrow == target:\n",
    "        print(\"True\")\n",
    "        break\n",
    "    else:\n",
    "        l = arrow[0]\n",
    "        arrow.append(l)\n",
    "        arrow.remove(arrow[0])\n",
    "        i = i+1\n",
    "print(\"False\")"
   ]
  },
  {
   "cell_type": "markdown",
   "id": "bd3a7b59",
   "metadata": {},
   "source": [
    "💡 **Question 7**\n",
    "\n",
    "Given two strings s and t, return true *if they are equal when both are typed into empty text editors*. '#' means a backspace character.\n",
    "\n",
    "Note that after backspacing an empty text, the text will continue empty.\n",
    "\n",
    "**Example 1:**\n",
    "\n",
    "**Input:** s = \"ab#c\", t = \"ad#c\"\n",
    "\n",
    "**Output:** true\n",
    "\n",
    "**Explanation:**\n",
    "\n",
    "Both s and t become \"ac\"."
   ]
  },
  {
   "cell_type": "code",
   "execution_count": 5,
   "id": "296a2e1d",
   "metadata": {},
   "outputs": [
    {
     "name": "stdout",
     "output_type": "stream",
     "text": [
      "True\n"
     ]
    }
   ],
   "source": [
    "def backspaceCompare(s, t):\n",
    "    s_list = []\n",
    "    t_list = []\n",
    "    \n",
    "    for i in range(len(s)):\n",
    "        if s[i] == '#':\n",
    "            if s_list:\n",
    "                s_list.pop()\n",
    "        else:\n",
    "            s_list.append(s[i])\n",
    "        \n",
    "    for i in range(len(t)):\n",
    "        if t[i] == '#':\n",
    "            if t_list:\n",
    "                t_list.pop()\n",
    "        else:\n",
    "            t_list.append(t[i])\n",
    "    \n",
    "    return s_list == t_list\n",
    "            \n",
    "s = \"ab##\"\n",
    "t = \"c#d#\"\n",
    "print(backspaceCompare(s, t))"
   ]
  },
  {
   "cell_type": "markdown",
   "id": "bf771fdd",
   "metadata": {},
   "source": [
    "💡 **Question 8**\n",
    "\n",
    "You are given an array coordinates, coordinates[i] = [x, y], where [x, y] represents the coordinate of a point. Check if these points make a straight line in the XY plane.\n",
    "\n",
    "**Example 1:**\n",
    "\n",
    "**Input:** coordinates = [[1,2],[2,3],[3,4],[4,5],[5,6],[6,7]]\n",
    "\n",
    "**Output:** true"
   ]
  },
  {
   "cell_type": "code",
   "execution_count": 6,
   "id": "9b5747a4",
   "metadata": {},
   "outputs": [
    {
     "name": "stdout",
     "output_type": "stream",
     "text": [
      "True\n"
     ]
    }
   ],
   "source": [
    "def strainghtLoght(coordinates):\n",
    "    x = coordinates[0][0]\n",
    "    y = coordinates[0][1]\n",
    "    \n",
    "    for i in range(1,len(coordinates)):\n",
    "        x1 = coordinates[i][0]\n",
    "        y1 = coordinates[i][1]\n",
    "        \n",
    "        if x1 == x+1 and y1 == y+1:\n",
    "            x = x1\n",
    "            y = y1\n",
    "        else:\n",
    "            return False\n",
    "    return True\n",
    "\n",
    "coordinates = [[1,2],[2,3],[3,4],[4,5],[5,6],[6,7]]\n",
    "print(strainghtLoght(coordinates))"
   ]
  },
  {
   "cell_type": "code",
   "execution_count": null,
   "id": "06e30dd9",
   "metadata": {},
   "outputs": [],
   "source": []
  }
 ],
 "metadata": {
  "kernelspec": {
   "display_name": "Python 3 (ipykernel)",
   "language": "python",
   "name": "python3"
  },
  "language_info": {
   "codemirror_mode": {
    "name": "ipython",
    "version": 3
   },
   "file_extension": ".py",
   "mimetype": "text/x-python",
   "name": "python",
   "nbconvert_exporter": "python",
   "pygments_lexer": "ipython3",
   "version": "3.7.4"
  }
 },
 "nbformat": 4,
 "nbformat_minor": 5
}
