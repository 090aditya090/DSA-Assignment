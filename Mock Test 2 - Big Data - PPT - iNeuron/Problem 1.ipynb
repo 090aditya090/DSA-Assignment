{
 "cells": [
  {
   "cell_type": "markdown",
   "id": "12940fa3",
   "metadata": {},
   "source": [
    "**1.** Write an SQL query to find the second-highest salary from an \"Employees\" table."
   ]
  },
  {
   "cell_type": "raw",
   "id": "b34a57bc",
   "metadata": {},
   "source": [
    "WITH tmp AS \n",
    "    (SELECT salary, ROW_NUMBER() OVER() as rnk FROM Employee ORDER BY salary DESC) \n",
    "    SELECT salary FROM tmp WHERE  rnk = 2;"
   ]
  },
  {
   "cell_type": "code",
   "execution_count": null,
   "id": "2eedf084",
   "metadata": {},
   "outputs": [],
   "source": []
  }
 ],
 "metadata": {
  "kernelspec": {
   "display_name": "Python 3 (ipykernel)",
   "language": "python",
   "name": "python3"
  },
  "language_info": {
   "codemirror_mode": {
    "name": "ipython",
    "version": 3
   },
   "file_extension": ".py",
   "mimetype": "text/x-python",
   "name": "python",
   "nbconvert_exporter": "python",
   "pygments_lexer": "ipython3",
   "version": "3.7.4"
  }
 },
 "nbformat": 4,
 "nbformat_minor": 5
}
