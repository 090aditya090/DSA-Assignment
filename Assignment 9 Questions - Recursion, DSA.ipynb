{
 "cells": [
  {
   "cell_type": "markdown",
   "id": "ee5a6456",
   "metadata": {},
   "source": [
    "💡 **Question 1**\n",
    "\n",
    "Given an integer `n`, return *`true` if it is a power of two. Otherwise, return `false`*.\n",
    "\n",
    "An integer `n` is a power of two, if there exists an integer `x` such that `n == 2x`.\n",
    "\n",
    "**Example 1:**\n",
    "Input: n = 1 \n",
    "\n",
    "Output: true\n",
    "\n",
    "**Example 2:**\n",
    "Input: n = 16 \n",
    "\n",
    "Output: true\n",
    "\n",
    "**Example 3:**\n",
    "Input: n = 3 \n",
    "\n",
    "Output: false"
   ]
  },
  {
   "cell_type": "code",
   "execution_count": 1,
   "id": "00c8b15b",
   "metadata": {},
   "outputs": [
    {
     "name": "stdout",
     "output_type": "stream",
     "text": [
      "False\n"
     ]
    }
   ],
   "source": [
    "def isPowerOfTwo(n):\n",
    "    if n==1:\n",
    "        return True\n",
    "    elif n%2 != 0 or n == 0:\n",
    "        return False\n",
    "    return isPowerOfTwo(n/2)\n",
    "n = 3\n",
    "print(isPowerOfTwo(n))"
   ]
  },
  {
   "cell_type": "markdown",
   "id": "5d7a23bb",
   "metadata": {},
   "source": [
    "💡 **Question 2**\n",
    "\n",
    "Given a number n, find the sum of the first natural numbers.\n",
    "\n",
    "**Example 1:**\n",
    "\n",
    "Input: n = 3 \n",
    "\n",
    "Output: 6\n",
    "\n",
    "**Example 2:**\n",
    "\n",
    "Input  : 5 \n",
    "\n",
    "Output : 15"
   ]
  },
  {
   "cell_type": "code",
   "execution_count": 2,
   "id": "914ba3c9",
   "metadata": {},
   "outputs": [
    {
     "name": "stdout",
     "output_type": "stream",
     "text": [
      "6\n"
     ]
    }
   ],
   "source": [
    "def sumOfNumber(n):\n",
    "    if n == 1:\n",
    "        return 1\n",
    "    else:\n",
    "        return n+sumOfNumber(n-1)\n",
    "\n",
    "n = 3\n",
    "print(sumOfNumber(n))"
   ]
  },
  {
   "cell_type": "markdown",
   "id": "c9c65cff",
   "metadata": {},
   "source": [
    "💡 **Question 3**\n",
    "\n",
    "Given a positive integer, N. Find the factorial of N. \n",
    "\n",
    "**Example 1:**\n",
    "\n",
    "Input: N = 5 \n",
    "\n",
    "Output: 120\n",
    "\n",
    "**Example 2:**\n",
    "\n",
    "Input: N = 4\n",
    "\n",
    "Output: 24"
   ]
  },
  {
   "cell_type": "code",
   "execution_count": 4,
   "id": "990f6368",
   "metadata": {},
   "outputs": [
    {
     "name": "stdout",
     "output_type": "stream",
     "text": [
      "120\n"
     ]
    }
   ],
   "source": [
    "def factorial(n):\n",
    "    if n == 1:\n",
    "        return 1\n",
    "    else:\n",
    "        return n*factorial(n-1)\n",
    "\n",
    "n = 5\n",
    "print(factorial(n))"
   ]
  },
  {
   "cell_type": "markdown",
   "id": "04b2f953",
   "metadata": {},
   "source": [
    "💡 **Question 4**\n",
    "\n",
    "Given a number N and a power P, the task is to find the exponent of this number raised to the given power, i.e. N^P.\n",
    "\n",
    "**Example 1 :** \n",
    "\n",
    "Input: N = 5, P = 2\n",
    "\n",
    "Output: 25\n",
    "\n",
    "**Example 2 :**\n",
    "Input: N = 2, P = 5\n",
    "\n",
    "Output: 32"
   ]
  },
  {
   "cell_type": "code",
   "execution_count": 5,
   "id": "6cfa3eb7",
   "metadata": {},
   "outputs": [
    {
     "name": "stdout",
     "output_type": "stream",
     "text": [
      "32\n"
     ]
    }
   ],
   "source": [
    "def exponent(n,p):\n",
    "    if n == 1 or p == 0:\n",
    "        return 1\n",
    "    else:\n",
    "        return n*exponent(n,p-1)\n",
    "n = 2\n",
    "p = 5\n",
    "print(exponent(n,p))    "
   ]
  },
  {
   "cell_type": "markdown",
   "id": "ef9669df",
   "metadata": {},
   "source": [
    "💡 **Question 5**\n",
    "\n",
    "Given an array of integers **arr**, the task is to find maximum element of that array using recursion.\n",
    "\n",
    "**Example 1:**\n",
    "\n",
    "Input: arr = {1, 4, 3, -5, -4, 8, 6};\n",
    "Output: 8\n",
    "\n",
    "**Example 2:**\n",
    "\n",
    "Input: arr = {1, 4, 45, 6, 10, -8};\n",
    "Output: 45"
   ]
  },
  {
   "cell_type": "code",
   "execution_count": 6,
   "id": "ab35d0a4",
   "metadata": {},
   "outputs": [
    {
     "name": "stdout",
     "output_type": "stream",
     "text": [
      "8\n"
     ]
    }
   ],
   "source": [
    "def maxofArray(arr, i, num):\n",
    "    if num <= arr[i] and i < len(arr)-1:\n",
    "        num = arr[i]\n",
    "        return maxofArray(arr, i+1, num)\n",
    "    elif num > arr[i] and i < len(arr)-1:\n",
    "        return maxofArray(arr,i+1, num)\n",
    "    elif i == len(arr)-1:\n",
    "        if num >= arr[i]:\n",
    "            return num\n",
    "        else:\n",
    "            num = arr[i]\n",
    "            return num \n",
    "        \n",
    "\n",
    "arr = [1, 4, 3, -5, -4, 8, 6]\n",
    "Output: 8\n",
    "i = 0\n",
    "num = arr[0]\n",
    "print(maxofArray(arr, i, num))  "
   ]
  },
  {
   "cell_type": "markdown",
   "id": "3a590dd1",
   "metadata": {},
   "source": [
    "💡 **Question 6**\n",
    "\n",
    "Given first term (a), common difference (d) and a integer N of the Arithmetic Progression series, the task is to find Nth term of the series.\n",
    "\n",
    "**Example 1:**\n",
    "\n",
    "Input : a = 2 d = 1 N = 5\n",
    "Output : 6\n",
    "The 5th term of the series is : 6\n",
    "\n",
    "**Example 2:**\n",
    "\n",
    "Input : a = 5 d = 2 N = 10\n",
    "Output : 23\n",
    "The 10th term of the series is : 23"
   ]
  },
  {
   "cell_type": "code",
   "execution_count": 7,
   "id": "b55795c5",
   "metadata": {},
   "outputs": [
    {
     "name": "stdout",
     "output_type": "stream",
     "text": [
      "6\n"
     ]
    }
   ],
   "source": [
    "def arithmeticProgression(a, d, N):\n",
    "    if N == 2:\n",
    "        return a+d\n",
    "    else:\n",
    "        a = a+d\n",
    "        N -= 1\n",
    "        return arithmeticProgression(a, d, N)\n",
    "    \n",
    "    \n",
    "a = 2 \n",
    "d = 1 \n",
    "N = 5  \n",
    "print(arithmeticProgression(a, d, N))"
   ]
  },
  {
   "cell_type": "markdown",
   "id": "abaf6472",
   "metadata": {},
   "source": [
    "💡 **Question 7**\n",
    "\n",
    "Given a string S, the task is to write a program to print all permutations of a given string.\n",
    "\n",
    "**Example 1:**\n",
    "\n",
    "***Input:***\n",
    "\n",
    "*S = “ABC”*\n",
    "\n",
    "***Output:***\n",
    "\n",
    "*“ABC”, “ACB”, “BAC”, “BCA”, “CBA”, “CAB”*\n",
    "\n",
    "**Example 2:**\n",
    "\n",
    "***Input:***\n",
    "\n",
    "*S = “XY”*\n",
    "\n",
    "***Output:***\n",
    "\n",
    "*“XY”, “YX”*"
   ]
  },
  {
   "cell_type": "code",
   "execution_count": 8,
   "id": "6a78b6a5",
   "metadata": {},
   "outputs": [
    {
     "name": "stdout",
     "output_type": "stream",
     "text": [
      "ABC\n",
      "ACB\n",
      "BAC\n",
      "BCA\n",
      "CBA\n",
      "CAB\n"
     ]
    }
   ],
   "source": [
    "# Function to swap two characters in a character array\n",
    "def swap(ch, i, j):\n",
    "    temp = ch[i]\n",
    "    ch[i] = ch[j]\n",
    "    ch[j] = temp\n",
    " \n",
    " \n",
    "# Recursive function to generate all permutations of a string\n",
    "def permutations(ch, curr_index=0):\n",
    " \n",
    "    if curr_index == len(ch) - 1:\n",
    "        print(''.join(ch))\n",
    " \n",
    "    for i in range(curr_index, len(ch)):\n",
    "        swap(ch, curr_index, i)\n",
    "        permutations(ch, curr_index + 1)\n",
    "        swap(ch, curr_index, i)\n",
    " \n",
    " \n",
    "if __name__ == '__main__':\n",
    " \n",
    "    s = 'ABC'\n",
    "    permutations(list(s))"
   ]
  },
  {
   "cell_type": "markdown",
   "id": "2992a5c7",
   "metadata": {},
   "source": [
    "💡 **Question 8**\n",
    "\n",
    "Given an array, find a product of all array elements.\n",
    "\n",
    "**Example 1:**\n",
    "\n",
    "Input  : arr[] = {1, 2, 3, 4, 5}\n",
    "Output : 120\n",
    "\n",
    "**Example 2:**\n",
    "\n",
    "Input  : arr[] = {1, 6, 3}\n",
    "Output : 18"
   ]
  },
  {
   "cell_type": "code",
   "execution_count": 9,
   "id": "14f05c35",
   "metadata": {},
   "outputs": [
    {
     "name": "stdout",
     "output_type": "stream",
     "text": [
      "120\n"
     ]
    }
   ],
   "source": [
    "def productArray(arr, i = 0, product = 1):\n",
    "    if i == len(arr)-1:\n",
    "        return product*arr[i]\n",
    "    else:\n",
    "        product = product*arr[i]\n",
    "        i = i+1\n",
    "        return productArray(arr, i, product)\n",
    "        \n",
    "    \n",
    "    \n",
    "arr = [1, 2, 3, 4, 5]\n",
    "print(productArray(arr))    "
   ]
  },
  {
   "cell_type": "code",
   "execution_count": null,
   "id": "16506895",
   "metadata": {},
   "outputs": [],
   "source": []
  }
 ],
 "metadata": {
  "kernelspec": {
   "display_name": "Python 3 (ipykernel)",
   "language": "python",
   "name": "python3"
  },
  "language_info": {
   "codemirror_mode": {
    "name": "ipython",
    "version": 3
   },
   "file_extension": ".py",
   "mimetype": "text/x-python",
   "name": "python",
   "nbconvert_exporter": "python",
   "pygments_lexer": "ipython3",
   "version": "3.7.4"
  }
 },
 "nbformat": 4,
 "nbformat_minor": 5
}
