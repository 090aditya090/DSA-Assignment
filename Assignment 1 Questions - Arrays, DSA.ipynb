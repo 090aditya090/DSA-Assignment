{
 "cells": [
  {
   "cell_type": "markdown",
   "id": "b63c148a",
   "metadata": {},
   "source": [
    "**Q1.** Given an array of integers nums and an integer target, return indices of the two numbers such that they add up to target.\n",
    "\n",
    "You may assume that each input would have exactly one solution, and you may not use the same element twice.\n",
    "\n",
    "You can return the answer in any order.\n",
    "\n",
    "**Example:**\n",
    "Input: nums = [2,7,11,15], target = 9\n",
    "Output0 [0,1]\n",
    "\n",
    "**Explanation:** Because nums[0] + nums[1] == 9, we return [0, 1]["
   ]
  },
  {
   "cell_type": "markdown",
   "id": "1b59ee7c",
   "metadata": {},
   "source": [
    "**Brute Force approach**"
   ]
  },
  {
   "cell_type": "code",
   "execution_count": 9,
   "id": "e4803d58",
   "metadata": {},
   "outputs": [],
   "source": [
    "def twoSum(nums, target):\n",
    "    l = len(nums)\n",
    "    for i in range(l):\n",
    "        for j in range(l):\n",
    "            if i != j:\n",
    "                sum = nums[i]+nums[j]\n",
    "                if sum == target:\n",
    "                    return [i,j]"
   ]
  },
  {
   "cell_type": "code",
   "execution_count": 10,
   "id": "01eec0b1",
   "metadata": {},
   "outputs": [
    {
     "name": "stdout",
     "output_type": "stream",
     "text": [
      "[0, 1]\n"
     ]
    }
   ],
   "source": [
    "nums = [2,7,11,15]\n",
    "target = 9\n",
    "print(twoSum(nums, target))"
   ]
  },
  {
   "cell_type": "markdown",
   "id": "b1f71536",
   "metadata": {},
   "source": [
    "**2'nd approach** "
   ]
  },
  {
   "cell_type": "code",
   "execution_count": 4,
   "id": "ab520717",
   "metadata": {},
   "outputs": [
    {
     "name": "stdout",
     "output_type": "stream",
     "text": [
      "[0, 1]\n"
     ]
    }
   ],
   "source": [
    "def twoSum(nums, target):\n",
    "    l = len(nums)-1\n",
    "    s = 0\n",
    "    while s < l:\n",
    "        if nums[s]+nums[l] > target:\n",
    "            l -= 1    \n",
    "        elif nums[s]+nums[l] < target:\n",
    "            s += 1\n",
    "        elif nums[s]+nums[l] == target:\n",
    "            return [s,l]\n",
    "\n",
    "nums = [2,7,11,15]\n",
    "target = 9\n",
    "nums.sort()\n",
    "print(twoSum(nums, target))"
   ]
  },
  {
   "cell_type": "markdown",
   "id": "9f562414",
   "metadata": {},
   "source": [
    "**Q2.** Given an integer array nums and an integer val, remove all occurrences of val in nums in-place. The order of the elements may be changed. Then return the number of elements in nums which are not equal to val.\n",
    "\n",
    "Consider the number of elements in nums which are not equal to val be k, to get accepted, you need to do the following things:\n",
    "\n",
    "- Change the array nums such that the first k elements of nums contain the elements which are not equal to val. The remaining elements of nums are not important as well as the size of nums.\n",
    "- Return k.\n",
    "\n",
    "**Example :**\n",
    "Input: nums = [3,2,2,3], val = 3\n",
    "Output: 2, nums = [2,2,_*,_*]\n",
    "\n",
    "**Explanation:** Your function should return k = 2, with the first two elements of nums being 2. It does not matter what you leave beyond the returned k (hence they are underscores)["
   ]
  },
  {
   "cell_type": "code",
   "execution_count": 8,
   "id": "a95d7fab",
   "metadata": {},
   "outputs": [
    {
     "name": "stdout",
     "output_type": "stream",
     "text": [
      "2, nums= [2, 2]\n"
     ]
    }
   ],
   "source": [
    "def removeElement(nums, val):\n",
    "    lst = []\n",
    "    for i in range(len(nums)):\n",
    "        if nums[i] != val:\n",
    "            lst.append(nums[i])\n",
    "    return f'{len(lst)}, nums= {lst}'\n",
    " \n",
    "\n",
    "nums = [3,2,2,3]\n",
    "val = 3\n",
    "print(removeElement(nums, val))"
   ]
  },
  {
   "cell_type": "markdown",
   "id": "777fa8d8",
   "metadata": {},
   "source": [
    "**Q3.** Given a sorted array of distinct integers and a target value, return the index if the target is found. If not, return the index where it would be if it were inserted in order.\n",
    "\n",
    "You must write an algorithm with O(log n) runtime complexity.\n",
    "\n",
    "**Example 1:**\n",
    "Input: nums = [1,3,5,6], target = 5\n",
    "\n",
    "Output: 2"
   ]
  },
  {
   "cell_type": "code",
   "execution_count": 9,
   "id": "41df67f0",
   "metadata": {},
   "outputs": [
    {
     "name": "stdout",
     "output_type": "stream",
     "text": [
      "2\n"
     ]
    }
   ],
   "source": [
    "def searchInsert(nums,target):\n",
    "    l = 0 \n",
    "    r = len(nums)-1\n",
    "    while l <= r:\n",
    "        mid = (l+r) // 2\n",
    "            \n",
    "        if nums[mid] < target:\n",
    "            l = mid+1\n",
    "        elif nums[mid] > target:\n",
    "            r = mid-1\n",
    "        elif nums[mid] == target:\n",
    "            return mid\n",
    "    return l\n",
    "        \n",
    "nums = [1,3,5,6]\n",
    "target = 5\n",
    "print(searchInsert(nums, target))"
   ]
  },
  {
   "cell_type": "markdown",
   "id": "08363532",
   "metadata": {},
   "source": [
    "**Q4.** You are given a large integer represented as an integer array digits, where each digits[i] is the ith digit of the integer. The digits are ordered from most significant to least significant in left-to-right order. The large integer does not contain any leading 0's.\n",
    "\n",
    "Increment the large integer by one and return the resulting array of digits.\n",
    "\n",
    "**Example 1:**\n",
    "Input: digits = [1,2,3]\n",
    "Output: [1,2,4]\n",
    "\n",
    "**Explanation:** The array represents the integer 123.\n",
    "\n",
    "Incrementing by one gives 123 + 1 = 124.\n",
    "Thus, the result should be [1,2,4]."
   ]
  },
  {
   "cell_type": "code",
   "execution_count": 16,
   "id": "88155e09",
   "metadata": {},
   "outputs": [
    {
     "name": "stdout",
     "output_type": "stream",
     "text": [
      "[1, 0]\n"
     ]
    }
   ],
   "source": [
    "def plusOne(digits):\n",
    "    n = len(digits)\n",
    "    c = 0\n",
    "    if digits[0] != 0:\n",
    "        \n",
    "        for i in range(len(digits)-1, -1, -1):\n",
    "            if i == n-1:\n",
    "                val = digits[i] + c + 1\n",
    "            else:\n",
    "                val = digits[i] + c\n",
    "                \n",
    "            if val <= 9:\n",
    "                c = 0\n",
    "                digits[i] = val\n",
    "            else:\n",
    "                c = val // 10\n",
    "                val = val - 10\n",
    "                digits[i] = val\n",
    "                \n",
    "        if c:\n",
    "            digits.insert(0, c)\n",
    "            \n",
    "        return digits\n",
    "            \n",
    "    \n",
    "digits = [9]\n",
    "print(plusOne(digits))"
   ]
  },
  {
   "cell_type": "markdown",
   "id": "e4ef2a13",
   "metadata": {},
   "source": [
    "**Q5.** You are given two integer arrays nums1 and nums2, sorted in non-decreasing order, and two integers m and n, representing the number of elements in nums1 and nums2 respectively.\n",
    "\n",
    "Merge nums1 and nums2 into a single array sorted in non-decreasing order.\n",
    "\n",
    "The final sorted array should not be returned by the function, but instead be stored inside the array nums1. To accommodate this, nums1 has a length of m + n, where the first m elements denote the elements that should be merged, and the last n elements are set to 0 and should be ignored. nums2 has a length of n.\n",
    "\n",
    "**Example 1:**\n",
    "Input: nums1 = [1,2,3,0,0,0], m = 3, nums2 = [2,5,6], n = 3\n",
    "Output: [1,2,2,3,5,6]\n",
    "\n",
    "**Explanation:** The arrays we are merging are [1,2,3] and [2,5,6].\n",
    "The result of the merge is [1,2,2,3,5,6] with the underlined elements coming from nums1."
   ]
  },
  {
   "cell_type": "code",
   "execution_count": 2,
   "id": "18dd24ea",
   "metadata": {},
   "outputs": [
    {
     "name": "stdout",
     "output_type": "stream",
     "text": [
      "Output: [1, 2, 2, 3, 5, 6]\n"
     ]
    }
   ],
   "source": [
    "def merge(nums1, m, nums2, n):\n",
    "    i = 0\n",
    "    j = 0\n",
    "    lst = []\n",
    "    while i < m or j < n:\n",
    "        \n",
    "        if i == m and j != n:\n",
    "            lst = lst + nums2[j: n]\n",
    "            j = 3\n",
    "            \n",
    "        elif j == n and i != m:\n",
    "            lst = lst + nums1[i: m]\n",
    "            i = 3\n",
    "        \n",
    "        elif nums1[i] < nums2[j]:\n",
    "            lst.append(nums1[i])\n",
    "            i = i+1\n",
    "            \n",
    "        elif nums1[i] == nums2[j]:\n",
    "            lst.append(nums1[i])\n",
    "            lst.append(nums2[j])\n",
    "            i = i+1\n",
    "            j = j+1\n",
    "            \n",
    "        elif nums1[i] > nums2[j]:\n",
    "            lst.append(nums2[j])\n",
    "            j = j+1\n",
    "    return f'Output: {lst}'\n",
    "\n",
    "\n",
    "nums1 = [1,2,3] \n",
    "nums2 = [2,5,6] \n",
    "m = 3 \n",
    "n = 3\n",
    "print(merge(nums1, m, nums2, n))"
   ]
  },
  {
   "cell_type": "markdown",
   "id": "c76ff9b5",
   "metadata": {},
   "source": [
    "**Q6.** Given an integer array nums, return true if any value appears at least twice in the array, and return false if every element is distinct.\n",
    "\n",
    "**Example 1:**\n",
    "Input: nums = [1,2,3,1]\n",
    "\n",
    "Output: true"
   ]
  },
  {
   "cell_type": "code",
   "execution_count": 4,
   "id": "1192bc9d",
   "metadata": {},
   "outputs": [
    {
     "name": "stdout",
     "output_type": "stream",
     "text": [
      "True\n"
     ]
    }
   ],
   "source": [
    "def repetitive(nums):\n",
    "    n = list(set(nums))\n",
    "    if len(nums) > len(n):\n",
    "        return True\n",
    "    else:\n",
    "        return False\n",
    "    \n",
    "\n",
    "nums = [1,2,3,1]\n",
    "print(repetitive(nums))"
   ]
  },
  {
   "cell_type": "markdown",
   "id": "5ac2e09c",
   "metadata": {},
   "source": [
    "**Q7.** Given an integer array nums, move all 0's to the end of it while maintaining the relative order of the nonzero elements.\n",
    "\n",
    "Note that you must do this in-place without making a copy of the array.\n",
    "\n",
    "**Example 1:**\n",
    "Input: nums = [0,1,0,3,12]\n",
    "Output: [1,3,12,0,0]"
   ]
  },
  {
   "cell_type": "code",
   "execution_count": 5,
   "id": "e07e39a1",
   "metadata": {},
   "outputs": [
    {
     "name": "stdout",
     "output_type": "stream",
     "text": [
      "[1, 3, 12, 0, 0]\n"
     ]
    }
   ],
   "source": [
    "def relativeOrder(nums):\n",
    "    i = 0\n",
    "    j = len(nums)-1\n",
    "    while i != j:\n",
    "        if nums[i] == 0:\n",
    "            nums.pop(i)\n",
    "            j -= 1\n",
    "            nums.append(0)\n",
    "        else: \n",
    "            i += 1\n",
    "    return nums\n",
    "\n",
    "nums = [0,1,0,3,12]\n",
    "print(relativeOrder(nums))"
   ]
  },
  {
   "cell_type": "markdown",
   "id": "b9504981",
   "metadata": {},
   "source": [
    "**Q8.** You have a set of integers s, which originally contains all the numbers from 1 to n. Unfortunately, due to some error, one of the numbers in s got duplicated to another number in the set, which results in repetition of one number and loss of another number.\n",
    "\n",
    "You are given an integer array nums representing the data status of this set after the error.\n",
    "\n",
    "Find the number that occurs twice and the number that is missing and return them in the form of an array.\n",
    "\n",
    "**Example 1:**\n",
    "Input: nums = [1,2,2,4]\n",
    "Output: [2,3]"
   ]
  },
  {
   "cell_type": "code",
   "execution_count": 7,
   "id": "17728523",
   "metadata": {},
   "outputs": [
    {
     "name": "stdout",
     "output_type": "stream",
     "text": [
      "Output: [2, 3]\n"
     ]
    }
   ],
   "source": [
    "def findErrorNums(nums):\n",
    "    for i in range(len(nums)):\n",
    "        if nums[i] != (i+1):\n",
    "            return f'Output: {[nums[i], i+1]}'\n",
    "        \n",
    "nums = [1,2,2,4]        \n",
    "print(findErrorNums(nums))"
   ]
  },
  {
   "cell_type": "code",
   "execution_count": null,
   "id": "2b8d7e64",
   "metadata": {},
   "outputs": [],
   "source": []
  }
 ],
 "metadata": {
  "kernelspec": {
   "display_name": "Python 3 (ipykernel)",
   "language": "python",
   "name": "python3"
  },
  "language_info": {
   "codemirror_mode": {
    "name": "ipython",
    "version": 3
   },
   "file_extension": ".py",
   "mimetype": "text/x-python",
   "name": "python",
   "nbconvert_exporter": "python",
   "pygments_lexer": "ipython3",
   "version": "3.7.4"
  }
 },
 "nbformat": 4,
 "nbformat_minor": 5
}
