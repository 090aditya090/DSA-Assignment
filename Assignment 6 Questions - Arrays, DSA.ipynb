{
 "cells": [
  {
   "cell_type": "markdown",
   "id": "8f8829bb",
   "metadata": {},
   "source": [
    "💡 **Question 1**\n",
    "\n",
    "A permutation perm of n + 1 integers of all the integers in the range [0, n] can be represented as a string s of length n where:\n",
    "\n",
    "- s[i] == 'I' if perm[i] < perm[i + 1], and\n",
    "- s[i] == 'D' if perm[i] > perm[i + 1].\n",
    "\n",
    "Given a string s, reconstruct the permutation perm and return it. If there are multiple valid permutations perm, return **any of them**.\n",
    "\n",
    "**Example 1:**\n",
    "\n",
    "**Input:** s = \"IDID\"\n",
    "\n",
    "**Output:**\n",
    "\n",
    "[0,4,1,3,2]"
   ]
  },
  {
   "cell_type": "code",
   "execution_count": 2,
   "id": "9e067824",
   "metadata": {},
   "outputs": [
    {
     "name": "stdout",
     "output_type": "stream",
     "text": [
      "[0, 4, 1, 3, 2]\n"
     ]
    }
   ],
   "source": [
    "def diStringMatch(s):\n",
    "    ans = []\n",
    "    a , b = 0 , len(s)\n",
    "\n",
    "    for i in s:\n",
    "        if(i == 'I'):\n",
    "            ans.append(a)\n",
    "            a += 1\n",
    "        else:\n",
    "            ans.append(b)\n",
    "            b -= 1\n",
    "\n",
    "    if(s[-1] == 'D'):\n",
    "        ans.append(a)\n",
    "    else:\n",
    "        ans.append(b)\n",
    "\n",
    "    return ans\n",
    "\n",
    "s = \"IDID\"\n",
    "print(diStringMatch(s))"
   ]
  },
  {
   "cell_type": "markdown",
   "id": "aeff9f1b",
   "metadata": {},
   "source": [
    "💡 **Question 2**\n",
    "\n",
    "You are given an m x n integer matrix matrix with the following two properties:\n",
    "\n",
    "- Each row is sorted in non-decreasing order.\n",
    "- The first integer of each row is greater than the last integer of the previous row.\n",
    "\n",
    "Given an integer target, return true *if* target *is in* matrix *or* false *otherwise*.\n",
    "\n",
    "You must write a solution in O(log(m * n)) time complexity.\n",
    "\n",
    "**Example 1:**\n",
    "    \n",
    "**Input:** matrix = [[1,3,5,7],[10,11,16,20],[23,30,34,60]], target = 3\n",
    "\n",
    "**Output:** true"
   ]
  },
  {
   "cell_type": "code",
   "execution_count": 3,
   "id": "5e039f2a",
   "metadata": {},
   "outputs": [
    {
     "name": "stdout",
     "output_type": "stream",
     "text": [
      "True\n"
     ]
    }
   ],
   "source": [
    "def minElementMatrix(matrix, target):\n",
    "    for i in range(len(matrix)):\n",
    "        arr = matrix[i]\n",
    "        if target <= arr[-1] and target >= arr[0]:\n",
    "            l = 0\n",
    "            r = len(arr)-1\n",
    "            while l <= r:\n",
    "                mid = (l+r)//2\n",
    "                if target == arr[mid]:\n",
    "                    return True\n",
    "                elif target < arr[mid]:\n",
    "                    r = mid-1\n",
    "                else:\n",
    "                    l = mid+1\n",
    "    return False\n",
    "            \n",
    "\n",
    "matrix = [[1,3,5,7],[10,11,16,20],[23,30,34,60]]\n",
    "target = 3\n",
    "print(minElementMatrix(matrix, target))"
   ]
  },
  {
   "cell_type": "markdown",
   "id": "6abef7cc",
   "metadata": {},
   "source": [
    "💡 **Question 3**\n",
    "\n",
    "Given an array of integers arr, return *true if and only if it is a valid mountain array*.\n",
    "\n",
    "Recall that arr is a mountain array if and only if:\n",
    "\n",
    "- arr.length >= 3\n",
    "- There exists some i with 0 < i < arr.length - 1 such that:\n",
    "    - arr[0] < arr[1] < ... < arr[i - 1] < arr[i]\n",
    "    - arr[i] > arr[i + 1] > ... > arr[arr.length - 1]\n",
    "**Example 1:**\n",
    "\n",
    "**Input:** arr = [2,1]\n",
    "\n",
    "**Output:**\n",
    "\n",
    "false"
   ]
  },
  {
   "cell_type": "code",
   "execution_count": 6,
   "id": "8971c66b",
   "metadata": {},
   "outputs": [
    {
     "name": "stdout",
     "output_type": "stream",
     "text": [
      "False\n"
     ]
    }
   ],
   "source": [
    "def mountainArray(arr):\n",
    "    if len(arr) >= 3: \n",
    "        m = max(arr)\n",
    "        k = 0\n",
    "        for i in range(0,len(arr)-1):\n",
    "            if arr[i] == arr[i+1]:\n",
    "                k -= 1\n",
    "            elif arr[i] < arr[i+1] and i < arr.index(m):\n",
    "                k += 1\n",
    "            elif arr[i] == m:\n",
    "                k += 1\n",
    "            elif i > arr.index(m) and arr[i] > arr[i+1]:\n",
    "                k += 1\n",
    "        if k+1 == len(arr):\n",
    "            return True\n",
    "        else:\n",
    "            return False\n",
    "    else:\n",
    "        return False\n",
    "            \n",
    "arr = [2,1]    \n",
    "print(mountainArray(arr))"
   ]
  },
  {
   "cell_type": "markdown",
   "id": "4b1da9fc",
   "metadata": {},
   "source": [
    "💡 **Question 4**\n",
    "\n",
    "Given a binary array nums, return *the maximum length of a contiguous subarray with an equal number of* 0 *and* 1.\n",
    "\n",
    "**Example 1:**\n",
    "\n",
    "**Input:** nums = [0,1]\n",
    "\n",
    "**Output:** 2\n",
    "\n",
    "**Explanation:**\n",
    "\n",
    "[0, 1] is the longest contiguous subarray with an equal number of 0 and 1."
   ]
  },
  {
   "cell_type": "code",
   "execution_count": 1,
   "id": "ff816020",
   "metadata": {},
   "outputs": [
    {
     "name": "stdout",
     "output_type": "stream",
     "text": [
      "2\n"
     ]
    }
   ],
   "source": [
    "def findMaxLength(nums):\n",
    "\n",
    "    partial_sum = 0\n",
    "    table = {0:-1}\n",
    "    max_length = 0\n",
    "    for idx, number in enumerate(nums):\n",
    "        if number:\n",
    "            partial_sum += 1\n",
    "        else:\n",
    "            partial_sum -= 1\n",
    "\n",
    "        if partial_sum in table:\n",
    "\n",
    "            max_length = max( max_length, ( idx - table[partial_sum] ) )\n",
    "        else:\n",
    "            table[ partial_sum ] = idx\n",
    "    return max_length\n",
    "nums = [0,1,0]\n",
    "print(findMaxLength(nums))"
   ]
  },
  {
   "cell_type": "markdown",
   "id": "23598b93",
   "metadata": {},
   "source": [
    "💡 **Question 6**\n",
    "\n",
    "An integer array original is transformed into a **doubled** array changed by appending **twice the value** of every element in original, and then randomly **shuffling** the resulting array.\n",
    "\n",
    "Given an array changed, return original *if* changed *is a **doubled** array. If* changed *is not a **doubled** array, return an empty array. The elements in* original *may be returned in **any** order*.\n",
    "\n",
    "**Example 1:**\n",
    "\n",
    "**Input:** changed = [1,3,4,2,6,8]\n",
    "\n",
    "**Output:** [1,3,4]\n",
    "\n",
    "**Explanation:** One possible original array could be [1,3,4]:\n",
    "\n",
    "- Twice the value of 1 is 1 * 2 = 2.\n",
    "- Twice the value of 3 is 3 * 2 = 6.\n",
    "- Twice the value of 4 is 4 * 2 = 8.\n",
    "\n",
    "Other original arrays could be [4,3,1] or [3,1,4]."
   ]
  },
  {
   "cell_type": "code",
   "execution_count": 1,
   "id": "6802071c",
   "metadata": {},
   "outputs": [
    {
     "name": "stdout",
     "output_type": "stream",
     "text": [
      "[1, 3, 4]\n"
     ]
    }
   ],
   "source": [
    "import collections\n",
    "\n",
    "def findOriginalArray(changed):\n",
    "\n",
    "\n",
    "    if len(changed) % 2 != 0:\n",
    "        return []\n",
    "\n",
    "    h = collections.Counter(changed)\n",
    "    res = []\n",
    "\n",
    "    for i in sorted(changed):\n",
    "\n",
    "        if h[i]:\n",
    "            h[i] -=1\n",
    "            d = i * 2\n",
    "\n",
    "            if h[d]:\n",
    "                h[d] -=1\n",
    "                res += [i]\n",
    "\n",
    "            else:\n",
    "                return []\n",
    "\n",
    "    return res\n",
    "\n",
    "changed = [1,3,4,2,6,8]\n",
    "print(findOriginalArray(changed))"
   ]
  },
  {
   "cell_type": "markdown",
   "id": "bce78e90",
   "metadata": {},
   "source": [
    "💡 **Question 7**\n",
    "\n",
    "Given a positive integer n, generate an n x n matrix filled with elements from 1 to n2 in spiral order.\n",
    "\n",
    "**Example 1:**\n",
    "\n",
    "**Input:** n = 3\n",
    "\n",
    "**Output:** [[1,2,3],[8,9,4],[7,6,5]]"
   ]
  },
  {
   "cell_type": "code",
   "execution_count": 2,
   "id": "55795acb",
   "metadata": {},
   "outputs": [
    {
     "name": "stdout",
     "output_type": "stream",
     "text": [
      "[[1, 2, 3], [8, 9, 4], [7, 6, 5]]\n"
     ]
    }
   ],
   "source": [
    "def generateMatrix(n):\n",
    "    if not n:\n",
    "        return []\n",
    "    matrix = [[0 for _ in range(n)] for _ in range(n)]\n",
    "    left, right, top, bottom, num = 0, n-1, 0, n-1, 1\n",
    "    while left <= right and top <= bottom:\n",
    "        for i in range(left, right+1):\n",
    "            matrix[top][i] = num \n",
    "            num += 1\n",
    "        top += 1\n",
    "        for i in range(top, bottom+1):\n",
    "            matrix[i][right] = num\n",
    "            num += 1\n",
    "        right -= 1\n",
    "        if top <= bottom:\n",
    "            for i in range(right, left-1, -1):\n",
    "                matrix[bottom][i] = num\n",
    "                num += 1\n",
    "            bottom -= 1\n",
    "        if left <= right:\n",
    "            for i in range(bottom, top-1, -1):\n",
    "                matrix[i][left] = num\n",
    "                num += 1\n",
    "            left += 1\n",
    "    return matrix\n",
    "\n",
    "n=3\n",
    "print(generateMatrix(n))"
   ]
  },
  {
   "cell_type": "markdown",
   "id": "3bf5c0a9",
   "metadata": {},
   "source": [
    "💡 **Question 8**\n",
    "\n",
    "Given two [sparse matrices](https://en.wikipedia.org/wiki/Sparse_matrix) mat1 of size m x k and mat2 of size k x n, return the result of mat1 x mat2. You may assume that multiplication is always possible.\n",
    "\n",
    "**Example 1:**\n",
    "\n",
    "**Input:** mat1 = [[1,0,0],[-1,0,3]], mat2 = [[7,0,0],[0,0,0],[0,0,1]]\n",
    "\n",
    "**Output:**\n",
    "\n",
    "[[7,0,0],[-7,0,3]]"
   ]
  },
  {
   "cell_type": "code",
   "execution_count": 3,
   "id": "dfe25b3d",
   "metadata": {},
   "outputs": [
    {
     "name": "stdout",
     "output_type": "stream",
     "text": [
      "[[7, 0, 0], [-7, 0, 3]]\n"
     ]
    }
   ],
   "source": [
    "def multiply(mat1, mat2):\n",
    "    r1, c1, c2 = len(mat1), len(mat1[0]), len(mat2[0])\n",
    "    res = [[0] * c2 for _ in range(r1)]\n",
    "    for i in range(r1):\n",
    "        for j in range(c2):\n",
    "            for k in range(c1):\n",
    "                res[i][j] += mat1[i][k] * mat2[k][j]\n",
    "    return res\n",
    "\n",
    "mat1 = [[1,0,0],[-1,0,3]]\n",
    "mat2 = [[7,0,0],[0,0,0],[0,0,1]]\n",
    "print(multiply(mat1,mat2))"
   ]
  },
  {
   "cell_type": "code",
   "execution_count": null,
   "id": "1a5cf796",
   "metadata": {},
   "outputs": [],
   "source": []
  }
 ],
 "metadata": {
  "kernelspec": {
   "display_name": "Python 3 (ipykernel)",
   "language": "python",
   "name": "python3"
  },
  "language_info": {
   "codemirror_mode": {
    "name": "ipython",
    "version": 3
   },
   "file_extension": ".py",
   "mimetype": "text/x-python",
   "name": "python",
   "nbconvert_exporter": "python",
   "pygments_lexer": "ipython3",
   "version": "3.7.4"
  }
 },
 "nbformat": 4,
 "nbformat_minor": 5
}
