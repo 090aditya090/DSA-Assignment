{
 "cells": [
  {
   "cell_type": "markdown",
   "id": "464e6be5",
   "metadata": {},
   "source": [
    "**1.** Write a Python program to check if a given string is an anagram."
   ]
  },
  {
   "cell_type": "code",
   "execution_count": 2,
   "id": "8be93d9d",
   "metadata": {},
   "outputs": [
    {
     "name": "stdout",
     "output_type": "stream",
     "text": [
      "listen and silent are anagrams.\n"
     ]
    }
   ],
   "source": [
    "def is_anagram(str1, str2):\n",
    "    # Convert both strings to lowercase and remove whitespace\n",
    "    str1 = str1.lower().replace(\" \", \"\")\n",
    "    str2 = str2.lower().replace(\" \", \"\")\n",
    "    \n",
    "    # Check if the sorted characters of both strings are equal\n",
    "    return sorted(str1) == sorted(str2)\n",
    "\n",
    "# Example\n",
    "string1 = \"listen\"\n",
    "string2 = \"silent\"\n",
    "if is_anagram(string1, string2):\n",
    "    print(f\"{string1} and {string2} are anagrams.\")\n",
    "else:\n",
    "    print(f\"{string1} and {string2} are not anagrams.\")\n"
   ]
  },
  {
   "cell_type": "markdown",
   "id": "e3c8f903",
   "metadata": {},
   "source": [
    "**2.** Write a Python program to find the maximum and minimum values in a\n",
    "dictionary."
   ]
  },
  {
   "cell_type": "code",
   "execution_count": 3,
   "id": "22b90b3b",
   "metadata": {},
   "outputs": [
    {
     "name": "stdout",
     "output_type": "stream",
     "text": [
      "Maximum value: 10\n",
      "Minimum value: 3\n"
     ]
    }
   ],
   "source": [
    "def find_max_min_values(dictionary):\n",
    "    values = list(dictionary.values())\n",
    "    max_value = max(values)\n",
    "    min_value = min(values)\n",
    "    return max_value, min_value\n",
    "\n",
    "# Example\n",
    "my_dict = {\"a\": 5, \"b\": 10, \"c\": 3, \"d\": 8}\n",
    "max_val, min_val = find_max_min_values(my_dict)\n",
    "print(f\"Maximum value: {max_val}\")\n",
    "print(f\"Minimum value: {min_val}\")"
   ]
  },
  {
   "cell_type": "markdown",
   "id": "d64b7bed",
   "metadata": {},
   "source": [
    "**3.** Write a Python program to find the average of a list of numbers."
   ]
  },
  {
   "cell_type": "code",
   "execution_count": 4,
   "id": "cb417d1e",
   "metadata": {},
   "outputs": [
    {
     "name": "stdout",
     "output_type": "stream",
     "text": [
      "Average: 30.0\n"
     ]
    }
   ],
   "source": [
    "def find_average(numbers):\n",
    "    total = sum(numbers)\n",
    "    average = total / len(numbers)\n",
    "    return average\n",
    "\n",
    "# Example\n",
    "my_list = [10, 20, 30, 40, 50]\n",
    "average = find_average(my_list)\n",
    "print(f\"Average: {average}\")"
   ]
  },
  {
   "cell_type": "markdown",
   "id": "5e0d4693",
   "metadata": {},
   "source": [
    "**4.** Write a Python program to remove all vowels from a string."
   ]
  },
  {
   "cell_type": "code",
   "execution_count": 5,
   "id": "775912c0",
   "metadata": {},
   "outputs": [
    {
     "name": "stdout",
     "output_type": "stream",
     "text": [
      "String without vowels: Hll, Wrld!\n"
     ]
    }
   ],
   "source": [
    "def remove_vowels(string):\n",
    "    vowels = \"aeiouAEIOU\"\n",
    "    without_vowels = \"\"\n",
    "    for char in string:\n",
    "        if char not in vowels:\n",
    "            without_vowels += char\n",
    "    return without_vowels\n",
    "\n",
    "# Example\n",
    "my_string = \"Hello, World!\"\n",
    "string_without_vowels = remove_vowels(my_string)\n",
    "print(f\"String without vowels: {string_without_vowels}\")"
   ]
  },
  {
   "cell_type": "markdown",
   "id": "f7712b32",
   "metadata": {},
   "source": [
    "**5.** Write a Python function to calculate the factorial of a number using recursion."
   ]
  },
  {
   "cell_type": "code",
   "execution_count": 6,
   "id": "022c6dc2",
   "metadata": {},
   "outputs": [
    {
     "name": "stdout",
     "output_type": "stream",
     "text": [
      "The factorial of 5 is: 120\n"
     ]
    }
   ],
   "source": [
    "def factorial(n):\n",
    "    \n",
    "    if n == 0:\n",
    "        return 1\n",
    "    else:\n",
    "        return n * factorial(n-1)\n",
    "\n",
    "# Example\n",
    "number = 5\n",
    "factorial_result = factorial(number)\n",
    "print(f\"The factorial of {number} is: {factorial_result}\")"
   ]
  },
  {
   "cell_type": "markdown",
   "id": "79bcbf7b",
   "metadata": {},
   "source": [
    "**6.** Write a Python program to merge two unsorted lists into a single sorted list\n",
    "using the merge sort algorithm."
   ]
  },
  {
   "cell_type": "code",
   "execution_count": 7,
   "id": "db104aa3",
   "metadata": {},
   "outputs": [
    {
     "name": "stdout",
     "output_type": "stream",
     "text": [
      "Merged and sorted list: [1, 2, 3, 4, 5, 6, 7, 8, 9]\n"
     ]
    }
   ],
   "source": [
    "def merge_sort_merge(left, right):\n",
    "    merged_list = []\n",
    "    i = j = 0\n",
    "\n",
    "    while i < len(left) and j < len(right):\n",
    "        if left[i] < right[j]:\n",
    "            merged_list.append(left[i])\n",
    "            i += 1\n",
    "        else:\n",
    "            merged_list.append(right[j])\n",
    "            j += 1\n",
    "\n",
    "    while i < len(left):\n",
    "        merged_list.append(left[i])\n",
    "        i += 1\n",
    "    while j < len(right):\n",
    "        merged_list.append(right[j])\n",
    "        j += 1\n",
    "\n",
    "    return merged_list\n",
    "\n",
    "\n",
    "def merge_sort(lst):\n",
    "    if len(lst) <= 1:\n",
    "        return lst\n",
    "\n",
    "    mid = len(lst) // 2\n",
    "    left = merge_sort(lst[:mid])\n",
    "    right = merge_sort(lst[mid:])\n",
    "\n",
    "    return merge_sort_merge(left, right)\n",
    "\n",
    "\n",
    "# Example\n",
    "list1 = [4, 2, 7, 1, 9]\n",
    "list2 = [5, 3, 8, 6]\n",
    "\n",
    "merged_list = merge_sort(list1 + list2)\n",
    "print(f\"Merged and sorted list: {merged_list}\")"
   ]
  },
  {
   "cell_type": "markdown",
   "id": "5ed51de4",
   "metadata": {},
   "source": [
    "**7.** Write a Python program to find the GCD (Greatest Common Divisor) of two\n",
    "numbers."
   ]
  },
  {
   "cell_type": "code",
   "execution_count": 8,
   "id": "859d5920",
   "metadata": {},
   "outputs": [
    {
     "name": "stdout",
     "output_type": "stream",
     "text": [
      "The GCD of 48 and 36 is: 12\n"
     ]
    }
   ],
   "source": [
    "def gcd(a, b):\n",
    "    while b != 0:\n",
    "        a, b = b, a % b\n",
    "    return a\n",
    "\n",
    "# Example\n",
    "num1 = 48\n",
    "num2 = 36\n",
    "\n",
    "gcd_result = gcd(num1, num2)\n",
    "print(f\"The GCD of {num1} and {num2} is: {gcd_result}\")"
   ]
  },
  {
   "cell_type": "markdown",
   "id": "48b30334",
   "metadata": {},
   "source": [
    "**8.** Write a Python program to find the second-largest element in a list."
   ]
  },
  {
   "cell_type": "code",
   "execution_count": 9,
   "id": "ac4f9876",
   "metadata": {},
   "outputs": [
    {
     "name": "stdout",
     "output_type": "stream",
     "text": [
      "The second largest element in the list is: 8\n"
     ]
    }
   ],
   "source": [
    "def find_second_largest(lst):\n",
    "    if len(lst) < 2:\n",
    "        return \"List should contain at least two elements.\"\n",
    "\n",
    "    largest = second_largest = float('-inf')\n",
    "\n",
    "    for num in lst:\n",
    "        if num > largest:\n",
    "            second_largest = largest\n",
    "            largest = num\n",
    "        elif num > second_largest and num != largest:\n",
    "            second_largest = num\n",
    "\n",
    "    if second_largest == float('-inf'):\n",
    "        return \"There is no second largest element in the list.\"\n",
    "    else:\n",
    "        return second_largest\n",
    "\n",
    "# Example\n",
    "numbers = [5, 10, 2, 8, 3]\n",
    "second_largest = find_second_largest(numbers)\n",
    "print(f\"The second largest element in the list is: {second_largest}\")"
   ]
  },
  {
   "cell_type": "markdown",
   "id": "591d3d4a",
   "metadata": {},
   "source": [
    "**9.** Write a Python program to find the longest common subsequence between two\n",
    "strings using dynamic programming."
   ]
  },
  {
   "cell_type": "code",
   "execution_count": 10,
   "id": "c4bbda87",
   "metadata": {},
   "outputs": [
    {
     "name": "stdout",
     "output_type": "stream",
     "text": [
      "The longest common subsequence between 'AGGTAB' and 'GXTXAYB' is: GTAB\n"
     ]
    }
   ],
   "source": [
    "def longest_common_subsequence(str1, str2):\n",
    "    m = len(str1)\n",
    "    n = len(str2)\n",
    "\n",
    "    table = [[0] * (n + 1) for _ in range(m + 1)]\n",
    "\n",
    "    for i in range(1, m + 1):\n",
    "        for j in range(1, n + 1):\n",
    "            if str1[i - 1] == str2[j - 1]:\n",
    "                table[i][j] = table[i - 1][j - 1] + 1\n",
    "            else:\n",
    "                table[i][j] = max(table[i - 1][j], table[i][j - 1])\n",
    "\n",
    "    lcs = \"\"\n",
    "    i = m\n",
    "    j = n\n",
    "    while i > 0 and j > 0:\n",
    "        if str1[i - 1] == str2[j - 1]:\n",
    "            lcs = str1[i - 1] + lcs\n",
    "            i -= 1\n",
    "            j -= 1\n",
    "        elif table[i - 1][j] > table[i][j - 1]:\n",
    "            i -= 1\n",
    "        else:\n",
    "            j -= 1\n",
    "\n",
    "    return lcs\n",
    "\n",
    "# Example\n",
    "str1 = \"AGGTAB\"\n",
    "str2 = \"GXTXAYB\"\n",
    "\n",
    "lcs = longest_common_subsequence(str1, str2)\n",
    "print(f\"The longest common subsequence between '{str1}' and '{str2}' is: {lcs}\")"
   ]
  },
  {
   "cell_type": "code",
   "execution_count": null,
   "id": "a880e500",
   "metadata": {},
   "outputs": [],
   "source": []
  }
 ],
 "metadata": {
  "kernelspec": {
   "display_name": "Python 3 (ipykernel)",
   "language": "python",
   "name": "python3"
  },
  "language_info": {
   "codemirror_mode": {
    "name": "ipython",
    "version": 3
   },
   "file_extension": ".py",
   "mimetype": "text/x-python",
   "name": "python",
   "nbconvert_exporter": "python",
   "pygments_lexer": "ipython3",
   "version": "3.7.4"
  }
 },
 "nbformat": 4,
 "nbformat_minor": 5
}
